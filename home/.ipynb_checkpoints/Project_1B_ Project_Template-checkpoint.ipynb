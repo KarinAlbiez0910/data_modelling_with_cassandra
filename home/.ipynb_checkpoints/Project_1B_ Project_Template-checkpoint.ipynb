{
 "cells": [
  {
   "cell_type": "markdown",
   "metadata": {
    "editable": true
   },
   "source": [
    "# Part I. ETL Pipeline for Pre-Processing the Files"
   ]
  },
  {
   "cell_type": "markdown",
   "metadata": {
    "editable": true
   },
   "source": [
    "## PLEASE RUN THE FOLLOWING CODE FOR PRE-PROCESSING THE FILES"
   ]
  },
  {
   "cell_type": "markdown",
   "metadata": {
    "editable": true
   },
   "source": [
    "#### Import Python packages "
   ]
  },
  {
   "cell_type": "code",
   "execution_count": 1,
   "metadata": {
    "editable": true
   },
   "outputs": [],
   "source": [
    "# Import Python packages \n",
    "import pandas as pd\n",
    "import cassandra\n",
    "import re\n",
    "import os\n",
    "import glob\n",
    "import numpy as np\n",
    "import json\n",
    "import csv"
   ]
  },
  {
   "cell_type": "markdown",
   "metadata": {
    "editable": true
   },
   "source": [
    "#### Creating list of filepaths to process original event csv data files"
   ]
  },
  {
   "cell_type": "code",
   "execution_count": 2,
   "metadata": {
    "editable": true
   },
   "outputs": [
    {
     "name": "stdout",
     "output_type": "stream",
     "text": [
      "/home/workspace\n",
      "['/home/workspace/event_data/2018-11-27-events.csv', '/home/workspace/event_data/2018-11-04-events.csv', '/home/workspace/event_data/2018-11-07-events.csv', '/home/workspace/event_data/2018-11-09-events.csv', '/home/workspace/event_data/2018-11-19-events.csv', '/home/workspace/event_data/2018-11-05-events.csv', '/home/workspace/event_data/2018-11-22-events.csv', '/home/workspace/event_data/2018-11-16-events.csv', '/home/workspace/event_data/2018-11-26-events.csv', '/home/workspace/event_data/2018-11-24-events.csv', '/home/workspace/event_data/2018-11-29-events.csv', '/home/workspace/event_data/2018-11-15-events.csv', '/home/workspace/event_data/2018-11-20-events.csv', '/home/workspace/event_data/2018-11-06-events.csv', '/home/workspace/event_data/2018-11-18-events.csv', '/home/workspace/event_data/2018-11-21-events.csv', '/home/workspace/event_data/2018-11-10-events.csv', '/home/workspace/event_data/2018-11-23-events.csv', '/home/workspace/event_data/2018-11-02-events.csv', '/home/workspace/event_data/2018-11-28-events.csv', '/home/workspace/event_data/2018-11-03-events.csv', '/home/workspace/event_data/2018-11-13-events.csv', '/home/workspace/event_data/2018-11-30-events.csv', '/home/workspace/event_data/2018-11-12-events.csv', '/home/workspace/event_data/2018-11-01-events.csv', '/home/workspace/event_data/2018-11-14-events.csv', '/home/workspace/event_data/2018-11-25-events.csv', '/home/workspace/event_data/2018-11-08-events.csv', '/home/workspace/event_data/2018-11-17-events.csv', '/home/workspace/event_data/2018-11-11-events.csv']\n",
      "['/home/workspace/event_data/.ipynb_checkpoints/2018-11-01-events-checkpoint.csv', '/home/workspace/event_data/.ipynb_checkpoints/2018-11-04-events-checkpoint.csv', '/home/workspace/event_data/.ipynb_checkpoints/2018-11-09-events-checkpoint.csv']\n"
     ]
    }
   ],
   "source": [
    "# checking your current working directory\n",
    "print(os.getcwd())\n",
    "\n",
    "# Get your current folder and subfolder event data\n",
    "filepath = os.getcwd() + '/event_data'\n",
    "\n",
    "# Create a for loop to create a list of files and collect each filepath\n",
    "for root, dirs, files in os.walk(filepath):\n",
    "    \n",
    "# join the file path and roots with the subdirectories using glob\n",
    "    file_path_list = glob.glob(os.path.join(root,'*'))\n",
    "    print(file_path_list)"
   ]
  },
  {
   "cell_type": "markdown",
   "metadata": {
    "editable": true
   },
   "source": [
    "#### Processing the files to create the data file csv that will be used for Apache Casssandra tables"
   ]
  },
  {
   "cell_type": "code",
   "execution_count": 3,
   "metadata": {
    "editable": true
   },
   "outputs": [
    {
     "name": "stdout",
     "output_type": "stream",
     "text": [
      "487\n",
      "[['', 'Logged In', 'Walter', 'M', '0', 'Frye', '', 'free', 'San Francisco-Oakland-Hayward, CA', 'GET', 'Home', '1.54092E+12', '38', '', '200', '1.54111E+12', '39'], ['', 'Logged In', 'Kaylee', 'F', '0', 'Summers', '', 'free', 'Phoenix-Mesa-Scottsdale, AZ', 'GET', 'Home', '1.54034E+12', '139', '', '200', '1.54111E+12', '8'], [\"Des'ree\", 'Logged In', 'Kaylee', 'F', '1', 'Summers', '246.30812', 'free', 'Phoenix-Mesa-Scottsdale, AZ', 'PUT', 'NextSong', '1.54034E+12', '139', 'You Gotta Be', '200', '1.54111E+12', '8'], ['', 'Logged In', 'Kaylee', 'F', '2', 'Summers', '', 'free', 'Phoenix-Mesa-Scottsdale, AZ', 'GET', 'Upgrade', '1.54034E+12', '139', '', '200', '1.54111E+12', '8'], ['Mr Oizo', 'Logged In', 'Kaylee', 'F', '3', 'Summers', '144.03873', 'free', 'Phoenix-Mesa-Scottsdale, AZ', 'PUT', 'NextSong', '1.54034E+12', '139', 'Flat 55', '200', '1.54111E+12', '8'], ['Tamba Trio', 'Logged In', 'Kaylee', 'F', '4', 'Summers', '177.18812', 'free', 'Phoenix-Mesa-Scottsdale, AZ', 'PUT', 'NextSong', '1.54034E+12', '139', 'Quem Quiser Encontrar O Amor', '200', '1.54111E+12', '8'], ['The Mars Volta', 'Logged In', 'Kaylee', 'F', '5', 'Summers', '380.42077', 'free', 'Phoenix-Mesa-Scottsdale, AZ', 'PUT', 'NextSong', '1.54034E+12', '139', 'Eriatarka', '200', '1.54111E+12', '8'], ['Infected Mushroom', 'Logged In', 'Kaylee', 'F', '6', 'Summers', '440.2673', 'free', 'Phoenix-Mesa-Scottsdale, AZ', 'PUT', 'NextSong', '1.54034E+12', '139', 'Becoming Insane', '200', '1.54111E+12', '8'], ['Blue October / Imogen Heap', 'Logged In', 'Kaylee', 'F', '7', 'Summers', '241.3971', 'free', 'Phoenix-Mesa-Scottsdale, AZ', 'PUT', 'NextSong', '1.54034E+12', '139', 'Congratulations', '200', '1.54111E+12', '8'], ['Girl Talk', 'Logged In', 'Kaylee', 'F', '8', 'Summers', '160.15628', 'free', 'Phoenix-Mesa-Scottsdale, AZ', 'PUT', 'NextSong', '1.54034E+12', '139', 'Once again', '200', '1.54111E+12', '8'], ['Black Eyed Peas', 'Logged In', 'Sylvie', 'F', '0', 'Cruz', '214.93506', 'free', 'Washington-Arlington-Alexandria, DC-VA-MD-WV', 'PUT', 'NextSong', '1.54027E+12', '9', 'Pump It', '200', '1.54111E+12', '10'], ['', 'Logged In', 'Ryan', 'M', '0', 'Smith', '', 'free', 'San Jose-Sunnyvale-Santa Clara, CA', 'GET', 'Home', '1.54102E+12', '169', '', '200', '1.54111E+12', '26'], ['Fall Out Boy', 'Logged In', 'Ryan', 'M', '1', 'Smith', '200.72444', 'free', 'San Jose-Sunnyvale-Santa Clara, CA', 'PUT', 'NextSong', '1.54102E+12', '169', 'Nobody Puts Baby In The Corner', '200', '1.54111E+12', '26'], ['M.I.A.', 'Logged In', 'Ryan', 'M', '2', 'Smith', '233.7171', 'free', 'San Jose-Sunnyvale-Santa Clara, CA', 'PUT', 'NextSong', '1.54102E+12', '169', 'Mango Pickle Down River (With The Wilcannia Mob)', '200', '1.54111E+12', '26'], ['Survivor', 'Logged In', 'Jayden', 'M', '0', 'Fox', '245.36771', 'free', 'New Orleans-Metairie, LA', 'PUT', 'NextSong', '1.54103E+12', '100', 'Eye Of The Tiger', '200', '1.54111E+12', '101'], ['', 'Logged In', 'Theodore', 'M', '0', 'Smith', '', 'free', 'Houston-The Woodlands-Sugar Land, TX', 'GET', 'Home', '1.54031E+12', '154', '', '200', '1.54129E+12', '52'], ['Professor Longhair', 'Logged In', 'Ann', 'F', '0', 'Banks', '214.20363', 'free', 'Salt Lake City, UT', 'PUT', 'NextSong', '1.5409E+12', '124', \"Mean Ol'World\", '200', '1.54129E+12', '99'], ['', 'Logged In', 'Jahiem', 'M', '0', 'Miles', '', 'free', 'San Antonio-New Braunfels, TX', 'GET', 'Home', '1.54082E+12', '42', '', '200', '1.5413E+12', '43'], ['Gary Hobbs', 'Logged In', 'Jahiem', 'M', '1', 'Miles', '245.52444', 'free', 'San Antonio-New Braunfels, TX', 'PUT', 'NextSong', '1.54082E+12', '42', 'En Mi Mundo', '200', '1.5413E+12', '43'], ['Lifehouse', 'Logged In', 'Jahiem', 'M', '2', 'Miles', '203.59791', 'free', 'San Antonio-New Braunfels, TX', 'PUT', 'NextSong', '1.54082E+12', '42', \"We'll Never Know\", '200', '1.5413E+12', '43'], ['Olivia Ruiz', 'Logged In', 'Jahiem', 'M', '3', 'Miles', '254.74567', 'free', 'San Antonio-New Braunfels, TX', 'PUT', 'NextSong', '1.54082E+12', '42', 'Cabaret Blanco', '200', '1.5413E+12', '43'], ['', 'Logged In', 'Cecilia', 'F', '0', 'Owens', '', 'free', 'Atlanta-Sandy Springs-Roswell, GA', 'GET', 'Home', '1.54103E+12', '225', '', '200', '1.5413E+12', '6'], ['Jordan Rudess', 'Logged In', 'Cecilia', 'F', '1', 'Owens', '1367.84934', 'free', 'Atlanta-Sandy Springs-Roswell, GA', 'PUT', 'NextSong', '1.54103E+12', '225', 'Tarkus', '200', '1.54131E+12', '6'], ['Deerhunter', 'Logged In', 'Jayden', 'M', '0', 'Graves', '162.08934', 'paid', 'Marinette, WI-MI', 'PUT', 'NextSong', '1.54066E+12', '128', 'Weird Era', '200', '1.54131E+12', '25'], ['Daughtry', 'Logged In', 'Jayden', 'M', '1', 'Graves', '249.91302', 'paid', 'Marinette, WI-MI', 'PUT', 'NextSong', '1.54066E+12', '128', 'No Surprise', '200', '1.54131E+12', '25'], ['', 'Logged In', 'Jayden', 'M', '2', 'Graves', '', 'paid', 'Marinette, WI-MI', 'PUT', 'Logout', '1.54066E+12', '128', '', '307', '1.54131E+12', '25'], ['', 'Logged Out', '', '', '3', '', '', 'paid', '', 'GET', 'Home', '', '128', '', '200', '1.54131E+12', ''], ['', 'Logged Out', '', '', '4', '', '', 'paid', '', 'PUT', 'Login', '', '128', '', '307', '1.54131E+12', ''], ['', 'Logged In', 'Jayden', 'M', '5', 'Graves', '', 'paid', 'Marinette, WI-MI', 'GET', 'Home', '1.54066E+12', '128', '', '200', '1.54131E+12', '25'], ['Vinylshakerz', 'Logged In', 'Jayden', 'M', '6', 'Graves', '207.25506', 'paid', 'Marinette, WI-MI', 'PUT', 'NextSong', '1.54066E+12', '128', 'Club Tropicana', '200', '1.54131E+12', '25'], ['Barry Tuckwell/Academy of St Martin-in-the-Fields/Sir Neville Marriner', 'Logged In', 'Jayden', 'M', '7', 'Graves', '277.15873', 'paid', 'Marinette, WI-MI', 'PUT', 'NextSong', '1.54066E+12', '128', 'Horn Concerto No. 4 in E flat K495: II. Romance (Andante cantabile)', '200', '1.54131E+12', '25'], ['Son House', 'Logged In', 'Jayden', 'M', '8', 'Graves', '182.43873', 'paid', 'Marinette, WI-MI', 'PUT', 'NextSong', '1.54066E+12', '128', 'Depot Blues', '200', '1.54131E+12', '25'], ['Jason Mraz & Colbie Caillat', 'Logged In', 'Jayden', 'M', '9', 'Graves', '189.6224', 'paid', 'Marinette, WI-MI', 'PUT', 'NextSong', '1.54066E+12', '128', 'Lucky (Album Version)', '200', '1.54131E+12', '25'], ['The Romantics', 'Logged In', 'Jayden', 'M', '10', 'Graves', '233.7171', 'paid', 'Marinette, WI-MI', 'PUT', 'NextSong', '1.54066E+12', '128', 'Talking In Your Sleep', '200', '1.54131E+12', '25'], ['The Postal Service', 'Logged In', 'Jayden', 'M', '11', 'Graves', '266.47465', 'paid', 'Marinette, WI-MI', 'PUT', 'NextSong', '1.54066E+12', '128', 'Such Great Heights', '200', '1.54131E+12', '25'], ['Tweet', 'Logged In', 'Jayden', 'M', '12', 'Graves', '281.80853', 'paid', 'Marinette, WI-MI', 'PUT', 'NextSong', '1.54066E+12', '128', 'Always Will (LP Version)', '200', '1.54131E+12', '25'], ['Gang Starr/Inspectah Deck', 'Logged In', 'Jayden', 'M', '13', 'Graves', '225.07057', 'paid', 'Marinette, WI-MI', 'PUT', 'NextSong', '1.54066E+12', '128', 'Above The Clouds (Edited)', '200', '1.54131E+12', '25'], ['Kanye West', 'Logged In', 'Jayden', 'M', '14', 'Graves', '164.38812', 'paid', 'Marinette, WI-MI', 'PUT', 'NextSong', '1.54066E+12', '128', 'Coldest Winter', '200', '1.54131E+12', '25'], ['Shunza', 'Logged In', 'Jayden', 'M', '15', 'Graves', '250.93179', 'paid', 'Marinette, WI-MI', 'PUT', 'NextSong', '1.54066E+12', '128', 'Nan Ni Wan', '200', '1.54131E+12', '25'], ['Erykah Badu', 'Logged In', 'Jayden', 'M', '16', 'Graves', '286.9024', 'paid', 'Marinette, WI-MI', 'PUT', 'NextSong', '1.54066E+12', '128', 'Back In The Day', '200', '1.54131E+12', '25'], ['', 'Logged In', 'Jayden', 'M', '17', 'Graves', '', 'paid', 'Marinette, WI-MI', 'GET', 'Home', '1.54066E+12', '128', '', '200', '1.54131E+12', '25'], ['', 'Logged In', 'Jayden', 'M', '18', 'Graves', '', 'paid', 'Marinette, WI-MI', 'GET', 'Settings', '1.54066E+12', '128', '', '200', '1.54131E+12', '25'], ['Mariza', 'Logged In', 'Maia', 'F', '0', 'Burke', '239.3073', 'free', 'Houston-The Woodlands-Sugar Land, TX', 'PUT', 'NextSong', '1.54068E+12', '143', 'Vielas De Alfama', '200', '1.54131E+12', '51'], ['', 'Logged In', 'Jayden', 'M', '19', 'Graves', '', 'paid', 'Marinette, WI-MI', 'GET', 'Settings', '1.54066E+12', '128', '', '200', '1.54131E+12', '25'], ['', 'Logged In', 'Jayden', 'M', '20', 'Graves', '', 'paid', 'Marinette, WI-MI', 'PUT', 'Save Settings', '1.54066E+12', '128', '', '307', '1.54131E+12', '25'], ['', 'Logged In', 'Jayden', 'M', '21', 'Graves', '', 'paid', 'Marinette, WI-MI', 'GET', 'Home', '1.54066E+12', '128', '', '200', '1.54131E+12', '25'], ['Asia 2001', 'Logged In', 'Jayden', 'M', '22', 'Graves', '150.30812', 'paid', 'Marinette, WI-MI', 'PUT', 'NextSong', '1.54066E+12', '128', 'Epilogue', '200', '1.54131E+12', '25'], ['Alejandro Sanz', 'Logged In', 'Maia', 'F', '1', 'Burke', '230.24281', 'free', 'Houston-The Woodlands-Sugar Land, TX', 'PUT', 'NextSong', '1.54068E+12', '143', 'Non E_ Per Te_ Per Me', '200', '1.54131E+12', '51'], ['The Casualties', 'Logged In', 'Jayden', 'M', '23', 'Graves', '131.23873', 'paid', 'Marinette, WI-MI', 'PUT', 'NextSong', '1.54066E+12', '128', 'Fight For Your Life', '200', '1.54131E+12', '25'], ['Alliance Ethnik', 'Logged In', 'Jayden', 'M', '24', 'Graves', '252.21179', 'paid', 'Marinette, WI-MI', 'PUT', 'NextSong', '1.54066E+12', '128', 'ReprÃ\\x83Â©sente', '200', '1.54131E+12', '25'], ['Hey Monday', 'Logged In', 'Jayden', 'M', '25', 'Graves', '222.98077', 'paid', 'Marinette, WI-MI', 'PUT', 'NextSong', '1.54066E+12', '128', \"Run_ Don't Walk\", '200', '1.54131E+12', '25'], ['Silverchair', 'Logged In', 'Jayden', 'M', '26', 'Graves', '213.13261', 'paid', 'Marinette, WI-MI', 'PUT', 'NextSong', '1.54066E+12', '128', 'The Door', '200', '1.54131E+12', '25'], ['El DeBarge', 'Logged In', 'Jayden', 'M', '27', 'Graves', '323.47383', 'paid', 'Marinette, WI-MI', 'PUT', 'NextSong', '1.54066E+12', '128', 'Love Always', '200', '1.54131E+12', '25'], ['Evanescence', 'Logged In', 'Jayden', 'M', '28', 'Graves', '236.12036', 'paid', 'Marinette, WI-MI', 'PUT', 'NextSong', '1.54066E+12', '128', 'Bring Me To Life', '200', '1.54131E+12', '25'], ['', 'Logged In', 'Jayden', 'M', '29', 'Graves', '', 'paid', 'Marinette, WI-MI', 'GET', 'Help', '1.54066E+12', '128', '', '200', '1.54131E+12', '25'], ['Ludovico Einaudi', 'Logged In', 'Jayden', 'M', '30', 'Graves', '249.02485', 'paid', 'Marinette, WI-MI', 'PUT', 'NextSong', '1.54066E+12', '128', 'The Snow Prelude No. 2', '200', '1.54132E+12', '25'], ['Caifanes', 'Logged In', 'Jayden', 'M', '31', 'Graves', '210.88608', 'paid', 'Marinette, WI-MI', 'PUT', 'NextSong', '1.54066E+12', '128', 'Ayer Me Dijo Un Ave', '200', '1.54132E+12', '25'], ['The xx', 'Logged In', 'Jayden', 'M', '32', 'Graves', '188.55138', 'paid', 'Marinette, WI-MI', 'PUT', 'NextSong', '1.54066E+12', '128', 'Basic Space', '200', '1.54132E+12', '25'], ['Swizz Beatz', 'Logged In', 'Jayden', 'M', '33', 'Graves', '213.7073', 'paid', 'Marinette, WI-MI', 'PUT', 'NextSong', '1.54066E+12', '128', 'Big Munny', '200', '1.54132E+12', '25'], ['OutKast', 'Logged In', 'Jayden', 'M', '34', 'Graves', '239.35955', 'paid', 'Marinette, WI-MI', 'PUT', 'NextSong', '1.54066E+12', '128', 'Ms. Jackson', '200', '1.54132E+12', '25'], ['The Black Keys', 'Logged In', 'Jayden', 'M', '35', 'Graves', '300.30322', 'paid', 'Marinette, WI-MI', 'PUT', 'NextSong', '1.54066E+12', '128', 'The Only One', '200', '1.54132E+12', '25'], ['Nappy Roots [featuring Anthony Hamilton]', 'Logged In', 'Jayden', 'M', '36', 'Graves', '248.00608', 'paid', 'Marinette, WI-MI', 'PUT', 'NextSong', '1.54066E+12', '128', \"Po' Folks\", '200', '1.54132E+12', '25'], ['Whitesnake', 'Logged In', 'Jayden', 'M', '37', 'Graves', '250.3571', 'paid', 'Marinette, WI-MI', 'PUT', 'NextSong', '1.54066E+12', '128', 'Fool For Your Loving', '200', '1.54132E+12', '25'], ['Foolish Things', 'Logged In', 'Jayden', 'M', '38', 'Graves', '266.86649', 'paid', 'Marinette, WI-MI', 'PUT', 'NextSong', '1.54066E+12', '128', 'Who Can Compare', '200', '1.54132E+12', '25'], ['Soda Stereo', 'Logged In', 'Jayden', 'M', '39', 'Graves', '317.6224', 'paid', 'Marinette, WI-MI', 'PUT', 'NextSong', '1.54066E+12', '128', 'PrÃ\\x83Â³fugos', '200', '1.54132E+12', '25'], ['Edward Sharpe & The Magnetic Zeros', 'Logged In', 'Jayden', 'M', '40', 'Graves', '306.31138', 'paid', 'Marinette, WI-MI', 'PUT', 'NextSong', '1.54066E+12', '128', 'Home', '200', '1.54132E+12', '25'], ['', 'Logged In', 'Ryan', 'M', '0', 'Smith', '', 'free', 'San Jose-Sunnyvale-Santa Clara, CA', 'GET', 'Home', '1.54102E+12', '202', '', '200', '1.54132E+12', '26'], ['Anberlin', 'Logged In', 'Aleena', 'F', '0', 'Kirby', '258.42893', 'paid', 'Waterloo-Cedar Falls, IA', 'PUT', 'NextSong', '1.54102E+12', '196', 'Dismantle. Repair.', '200', '1.54132E+12', '44'], ['', 'Logged In', 'Aleena', 'F', '1', 'Kirby', '', 'paid', 'Waterloo-Cedar Falls, IA', 'GET', 'Help', '1.54102E+12', '196', '', '200', '1.54132E+12', '44'], ['L-7', 'Logged In', 'Aleena', 'F', '2', 'Kirby', '168.56771', 'paid', 'Waterloo-Cedar Falls, IA', 'PUT', 'NextSong', '1.54102E+12', '196', 'Shitlist', '200', '1.54132E+12', '44'], ['', 'Logged In', 'Aleena', 'F', '3', 'Kirby', '', 'paid', 'Waterloo-Cedar Falls, IA', 'GET', 'Home', '1.54102E+12', '196', '', '200', '1.54132E+12', '44'], ['Future Of The Left', 'Logged In', 'Aleena', 'F', '4', 'Kirby', '112.63955', 'paid', 'Waterloo-Cedar Falls, IA', 'PUT', 'NextSong', '1.54102E+12', '196', 'Fingers Become Thumbs', '200', '1.54132E+12', '44'], ['Franz Ferdinand', 'Logged In', 'Aleena', 'F', '5', 'Kirby', '206.28853', 'paid', 'Waterloo-Cedar Falls, IA', 'PUT', 'NextSong', '1.54102E+12', '196', 'Call Me', '200', '1.54132E+12', '44'], ['Travie McCoy', 'Logged In', 'Aleena', 'F', '6', 'Kirby', '211.12118', 'paid', 'Waterloo-Cedar Falls, IA', 'PUT', 'NextSong', '1.54102E+12', '196', 'Billionaire [feat. Bruno Mars]  (Explicit Album Version)', '200', '1.54132E+12', '44'], ['Lily Allen', 'Logged In', 'Aleena', 'F', '7', 'Kirby', '194.76853', 'paid', 'Waterloo-Cedar Falls, IA', 'PUT', 'NextSong', '1.54102E+12', '196', 'Smile', '200', '1.54132E+12', '44'], ['Rancid', 'Logged In', 'Aleena', 'F', '8', 'Kirby', '223.65995', 'paid', 'Waterloo-Cedar Falls, IA', 'PUT', 'NextSong', '1.54102E+12', '196', 'Fall Back Down (Album Version)', '200', '1.54132E+12', '44'], ['Katy Perry', 'Logged In', 'Aleena', 'F', '9', 'Kirby', '228.49261', 'paid', 'Waterloo-Cedar Falls, IA', 'PUT', 'NextSong', '1.54102E+12', '196', \"I'm Still Breathing\", '200', '1.54132E+12', '44'], ['Freestylers', 'Logged In', 'Aleena', 'F', '10', 'Kirby', '340.06159', 'paid', 'Waterloo-Cedar Falls, IA', 'PUT', 'NextSong', '1.54102E+12', '196', 'Punks (Krafty Kuts Remix)', '200', '1.54132E+12', '44'], ['', 'Logged In', 'Rylan', 'M', '0', 'George', '', 'free', 'Birmingham-Hoover, AL', 'GET', 'Home', '1.54102E+12', '15', '', '200', '1.54132E+12', '16'], ['Kid Rock', 'Logged In', 'Rylan', 'M', '1', 'George', '296.95955', 'free', 'Birmingham-Hoover, AL', 'PUT', 'NextSong', '1.54102E+12', '15', 'All Summer Long (Album Version)', '200', '1.54133E+12', '16'], ['LITE', 'Logged In', 'Aleena', 'F', '11', 'Kirby', '248.08444', 'paid', 'Waterloo-Cedar Falls, IA', 'PUT', 'NextSong', '1.54102E+12', '196', 'On A Gloomy Evening', '200', '1.54133E+12', '44'], ['The Killers', 'Logged In', 'Rylan', 'M', '2', 'George', '220.89098', 'free', 'Birmingham-Hoover, AL', 'PUT', 'NextSong', '1.54102E+12', '15', 'When You Were Young', '200', '1.54133E+12', '16'], [\"Hymie's Basement\", 'Logged In', 'Aleena', 'F', '12', 'Kirby', '175.38567', 'paid', 'Waterloo-Cedar Falls, IA', 'PUT', 'NextSong', '1.54102E+12', '196', 'Ghost Dream', '200', '1.54133E+12', '44'], ['Pavement', 'Logged In', 'Aleena', 'F', '13', 'Kirby', '195.73506', 'paid', 'Waterloo-Cedar Falls, IA', 'PUT', 'NextSong', '1.54102E+12', '196', 'Rooftop Gambler', '200', '1.54133E+12', '44'], ['Trey Songz', 'Logged In', 'Rylan', 'M', '3', 'George', '205.81832', 'free', 'Birmingham-Hoover, AL', 'PUT', 'NextSong', '1.54102E+12', '15', \"Can't Help But Wait (Album Version)\", '200', '1.54133E+12', '16'], ['Shakira', 'Logged In', 'Aleena', 'F', '14', 'Kirby', '159.05914', 'paid', 'Waterloo-Cedar Falls, IA', 'PUT', 'NextSong', '1.54102E+12', '196', 'La Pared', '200', '1.54133E+12', '44'], ['Billy J Kramer & The Dakotas', 'Logged In', 'Rylan', 'M', '4', 'George', '191.32036', 'free', 'Birmingham-Hoover, AL', 'PUT', 'NextSong', '1.54102E+12', '15', 'Tennessee Waltz (Live)', '200', '1.54133E+12', '16'], ['Arctic Monkeys', 'Logged In', 'Aleena', 'F', '15', 'Kirby', '138.10893', 'paid', 'Waterloo-Cedar Falls, IA', 'PUT', 'NextSong', '1.54102E+12', '196', 'D is for Dangerous', '200', '1.54133E+12', '44'], ['', 'Logged In', 'Aleena', 'F', '16', 'Kirby', '', 'paid', 'Waterloo-Cedar Falls, IA', 'GET', 'Settings', '1.54102E+12', '196', '', '200', '1.54133E+12', '44'], ['', 'Logged In', 'Aleena', 'F', '17', 'Kirby', '', 'paid', 'Waterloo-Cedar Falls, IA', 'GET', 'Home', '1.54102E+12', '196', '', '200', '1.54133E+12', '44'], ['Dashboard Confessional', 'Logged In', 'Rylan', 'M', '5', 'George', '224.54812', 'free', 'Birmingham-Hoover, AL', 'PUT', 'NextSong', '1.54102E+12', '15', 'Ghost Of A Good Thing', '200', '1.54133E+12', '16'], ['', 'Logged In', 'Rylan', 'M', '6', 'George', '', 'free', 'Birmingham-Hoover, AL', 'GET', 'Home', '1.54102E+12', '15', '', '200', '1.54133E+12', '16'], ['Moby', 'Logged In', 'Aleena', 'F', '18', 'Kirby', '196.75383', 'paid', 'Waterloo-Cedar Falls, IA', 'PUT', 'NextSong', '1.54102E+12', '196', 'Lift Me Up', '200', '1.54133E+12', '44'], ['Dan Deacon', 'Logged In', 'Aleena', 'F', '19', 'Kirby', '483.89179', 'paid', 'Waterloo-Cedar Falls, IA', 'PUT', 'NextSong', '1.54102E+12', '196', 'Snookered', '200', '1.54133E+12', '44'], ['Puddle Of Mudd', 'Logged In', 'Aleena', 'F', '20', 'Kirby', '210.80771', 'paid', 'Waterloo-Cedar Falls, IA', 'PUT', 'NextSong', '1.54102E+12', '196', 'Psycho', '200', '1.54133E+12', '44'], ['Red Hot Chili Peppers', 'Logged In', 'Aleena', 'F', '21', 'Kirby', '334.65424', 'paid', 'Waterloo-Cedar Falls, IA', 'PUT', 'NextSong', '1.54102E+12', '196', 'Snow [Hey Oh] (Album Version)', '200', '1.54133E+12', '44'], ['The Barbarians', 'Logged In', 'Aleena', 'F', '22', 'Kirby', '149.44608', 'paid', 'Waterloo-Cedar Falls, IA', 'PUT', 'NextSong', '1.54102E+12', '196', 'Memphis_ Tennessee', '200', '1.54133E+12', '44'], ['Julia Fordham', 'Logged In', 'Aleena', 'F', '23', 'Kirby', '213.44608', 'paid', 'Waterloo-Cedar Falls, IA', 'PUT', 'NextSong', '1.54102E+12', '196', 'Jump (Live)', '200', '1.54133E+12', '44'], ['Alicia Keys', 'Logged In', 'Aleena', 'F', '24', 'Kirby', '455.52281', 'paid', 'Waterloo-Cedar Falls, IA', 'PUT', 'NextSong', '1.54102E+12', '196', 'Streets Of New York (City Life)', '200', '1.54133E+12', '44'], ['Regina Spektor', 'Logged In', 'Aleena', 'F', '25', 'Kirby', '247.69261', 'paid', 'Waterloo-Cedar Falls, IA', 'PUT', 'NextSong', '1.54102E+12', '196', 'Another Town', '200', '1.54133E+12', '44'], ['Deborah Harry & Iggy Pop', 'Logged In', 'Aleena', 'F', '26', 'Kirby', '207.49016', 'paid', 'Waterloo-Cedar Falls, IA', 'PUT', 'NextSong', '1.54102E+12', '196', 'Well Did You Evah!', '200', '1.54133E+12', '44'], ['Dr. Dre / Eminem / Alvin Joiner', 'Logged In', 'Aleena', 'F', '27', 'Kirby', '244.21832', 'paid', 'Waterloo-Cedar Falls, IA', 'PUT', 'NextSong', '1.54102E+12', '196', \"What's The Difference\", '200', '1.54133E+12', '44'], ['Marcel Woods', 'Logged In', 'Aleena', 'F', '28', 'Kirby', '424.33261', 'paid', 'Waterloo-Cedar Falls, IA', 'PUT', 'NextSong', '1.54102E+12', '196', 'Advanced (Ton T.B. Mix)', '200', '1.54133E+12', '44'], ['OneRepublic', 'Logged In', 'Aleena', 'F', '29', 'Kirby', '208.14322', 'paid', 'Waterloo-Cedar Falls, IA', 'PUT', 'NextSong', '1.54102E+12', '196', 'Apologize', '200', '1.54133E+12', '44'], ['Beastie Boys', 'Logged In', 'Aleena', 'F', '30', 'Kirby', '172.22485', 'paid', 'Waterloo-Cedar Falls, IA', 'PUT', 'NextSong', '1.54102E+12', '196', 'The Maestro', '200', '1.54133E+12', '44'], ['', 'Logged Out', '', '', '0', '', '', 'paid', '', 'GET', 'Home', '', '175', '', '200', '1.54133E+12', ''], ['', 'Logged In', 'Anabelle', 'F', '0', 'Simpson', '', 'free', 'Philadelphia-Camden-Wilmington, PA-NJ-DE-MD', 'GET', 'Home', '1.54104E+12', '217', '', '200', '1.54133E+12', '69'], ['Paramore', 'Logged In', 'Aleena', 'F', '31', 'Kirby', '267.65016', 'paid', 'Waterloo-Cedar Falls, IA', 'PUT', 'NextSong', '1.54102E+12', '196', 'The Only Exception (Album Version)', '200', '1.54133E+12', '44'], ['Varios', 'Logged In', 'Aleena', 'F', '32', 'Kirby', '204.64281', 'paid', 'Waterloo-Cedar Falls, IA', 'PUT', 'NextSong', '1.54102E+12', '196', 'Hasta siempre', '200', '1.54133E+12', '44'], ['The Black Keys', 'Logged In', 'Aleena', 'F', '33', 'Kirby', '191.76444', 'paid', 'Waterloo-Cedar Falls, IA', 'PUT', 'NextSong', '1.54102E+12', '196', 'Howlin\\x19 For You', '200', '1.54133E+12', '44'], ['Muse', 'Logged In', 'Aleena', 'F', '34', 'Kirby', '198.79138', 'paid', 'Waterloo-Cedar Falls, IA', 'PUT', 'NextSong', '1.54102E+12', '196', 'Feeling Good', '200', '1.54133E+12', '44'], ['Frankie J', 'Logged In', 'Aleena', 'F', '35', 'Kirby', '254.32771', 'paid', 'Waterloo-Cedar Falls, IA', 'PUT', 'NextSong', '1.54102E+12', '196', \"Daddy's Little Girl\", '200', '1.54133E+12', '44'], ['Kirk Franklin & The Family', 'Logged In', 'Aleena', 'F', '36', 'Kirby', '418.71628', 'paid', 'Waterloo-Cedar Falls, IA', 'PUT', 'NextSong', '1.54102E+12', '196', 'Now Behold The Lamb', '200', '1.54133E+12', '44'], [\"Cooly's Hot Box\", 'Logged In', 'Aleena', 'F', '37', 'Kirby', '371.06893', 'paid', 'Waterloo-Cedar Falls, IA', 'PUT', 'NextSong', '1.54102E+12', '196', 'Make Me Happy', '200', '1.54133E+12', '44'], ['Ron Van Den Beuken', 'Logged In', 'Cecilia', 'F', '0', 'Owens', '506.5922', 'free', 'Atlanta-Sandy Springs-Roswell, GA', 'PUT', 'NextSong', '1.54103E+12', '229', 'Timeless', '200', '1.54133E+12', '6'], ['Sparks', 'Logged In', 'Aleena', 'F', '38', 'Kirby', '199.02649', 'paid', 'Waterloo-Cedar Falls, IA', 'PUT', 'NextSong', '1.54102E+12', '196', 'Lost And Found', '200', '1.54133E+12', '44'], ['Regina Spektor', 'Logged In', 'Aleena', 'F', '39', 'Kirby', '191.08526', 'paid', 'Waterloo-Cedar Falls, IA', 'PUT', 'NextSong', '1.54102E+12', '196', 'The Calculation (Album Version)', '200', '1.54133E+12', '44'], ['Subhumans', 'Logged In', 'Aleena', 'F', '40', 'Kirby', '209.37098', 'paid', 'Waterloo-Cedar Falls, IA', 'PUT', 'NextSong', '1.54102E+12', '196', 'Rain', '200', '1.54133E+12', '44'], ['', 'Logged In', 'Aleena', 'F', '41', 'Kirby', '', 'paid', 'Waterloo-Cedar Falls, IA', 'GET', 'Help', '1.54102E+12', '196', '', '200', '1.54133E+12', '44'], ['', 'Logged In', 'Aleena', 'F', '42', 'Kirby', '', 'paid', 'Waterloo-Cedar Falls, IA', 'GET', 'Home', '1.54102E+12', '196', '', '200', '1.54133E+12', '44'], ['Sia', 'Logged In', 'Aleena', 'F', '43', 'Kirby', '302.602', 'paid', 'Waterloo-Cedar Falls, IA', 'PUT', 'NextSong', '1.54102E+12', '196', 'Beautiful Calm Driving', '200', '1.54133E+12', '44'], ['Shadows Fall', 'Logged In', 'Aleena', 'F', '44', 'Kirby', '178.65098', 'paid', 'Waterloo-Cedar Falls, IA', 'PUT', 'NextSong', '1.54102E+12', '196', 'Lead Me Home', '200', '1.54133E+12', '44'], ['Eminem / Dr. Dre / 50 Cent', 'Logged In', 'Aleena', 'F', '45', 'Kirby', '297.56036', 'paid', 'Waterloo-Cedar Falls, IA', 'PUT', 'NextSong', '1.54102E+12', '196', 'Crack A Bottle', '200', '1.54133E+12', '44'], ['Vampire Weekend', 'Logged In', 'Aleena', 'F', '46', 'Kirby', '195.7873', 'paid', 'Waterloo-Cedar Falls, IA', 'PUT', 'NextSong', '1.54102E+12', '196', 'Oxford Comma (Album)', '200', '1.54133E+12', '44'], ['', 'Logged In', 'Tegan', 'F', '0', 'Levine', '', 'free', 'Portland-South Portland, ME', 'GET', 'Home', '1.54079E+12', '200', '', '200', '1.54134E+12', '80'], ['', 'Logged In', 'Tegan', 'F', '1', 'Levine', '', 'free', 'Portland-South Portland, ME', 'PUT', 'Logout', '1.54079E+12', '200', '', '307', '1.54134E+12', '80'], ['', 'Logged Out', '', '', '2', '', '', 'free', '', 'GET', 'Home', '', '200', '', '200', '1.54134E+12', ''], ['', 'Logged In', 'Lily', 'F', '0', 'Burns', '', 'free', 'New York-Newark-Jersey City, NY-NJ-PA', 'GET', 'Home', '1.54062E+12', '31', '', '200', '1.54134E+12', '32'], ['Eddie Floyd', 'Logged In', 'Lily', 'F', '1', 'Burns', '198.19057', 'free', 'New York-Newark-Jersey City, NY-NJ-PA', 'PUT', 'NextSong', '1.54062E+12', '31', 'Guess Who', '200', '1.54134E+12', '32'], ['The Swell Season', 'Logged In', 'Sylvie', 'F', '0', 'Cruz', '319.13751', 'free', 'Washington-Arlington-Alexandria, DC-VA-MD-WV', 'PUT', 'NextSong', '1.54027E+12', '220', 'If You Want Me (Live)', '200', '1.54134E+12', '10'], ['Alex Band', 'Logged In', 'Jordan', 'F', '0', 'Hicks', '238.8371', 'free', 'Salinas, CA', 'PUT', 'NextSong', '1.54001E+12', '145', 'Tonight (Single Mix)', '200', '1.54134E+12', '37'], ['Nightwish', 'Logged In', 'Sylvie', 'F', '1', 'Cruz', '305.97179', 'free', 'Washington-Arlington-Alexandria, DC-VA-MD-WV', 'PUT', 'NextSong', '1.54027E+12', '220', 'The Islander', '200', '1.54134E+12', '10'], ['Cartola', 'Logged In', 'Brantley', 'M', '0', 'West', '172.12036', 'free', 'Portland-Vancouver-Hillsboro, OR-WA', 'PUT', 'NextSong', '1.54106E+12', '133', 'As Rosas NÃ\\x83Â£o Falam', '200', '1.54134E+12', '28'], ['Vampire Weekend', 'Logged In', 'Brantley', 'M', '1', 'West', '269.16526', 'free', 'Portland-Vancouver-Hillsboro, OR-WA', 'PUT', 'NextSong', '1.54106E+12', '133', 'I Think Ur A Contra', '200', '1.54134E+12', '28'], ['Sebadoh', 'Logged In', 'Brantley', 'M', '2', 'West', '210.18077', 'free', 'Portland-Vancouver-Hillsboro, OR-WA', 'PUT', 'NextSong', '1.54106E+12', '133', 'Hassle', '200', '1.54134E+12', '28'], ['Incubus', 'Logged In', 'Brantley', 'M', '3', 'West', '212.74077', 'free', 'Portland-Vancouver-Hillsboro, OR-WA', 'PUT', 'NextSong', '1.54106E+12', '133', 'Wish You Were Here', '200', '1.54134E+12', '28'], ['Blue States', 'Logged In', 'Brantley', 'M', '4', 'West', '239.3073', 'free', 'Portland-Vancouver-Hillsboro, OR-WA', 'PUT', 'NextSong', '1.54106E+12', '133', 'Allies', '200', '1.54134E+12', '28'], ['', 'Logged Out', '', '', '0', '', '', 'free', '', 'GET', 'Home', '', '238', '', '200', '1.54134E+12', ''], ['', 'Logged Out', '', '', '1', '', '', 'free', '', 'PUT', 'Login', '', '238', '', '307', '1.54134E+12', ''], ['', 'Logged In', 'Tegan', 'F', '2', 'Levine', '', 'free', 'Portland-South Portland, ME', 'GET', 'Home', '1.54079E+12', '238', '', '200', '1.54134E+12', '80'], ['', 'Logged In', 'Magdalene', 'F', '0', 'Herman', '', 'free', 'Dallas-Fort Worth-Arlington, TX', 'GET', 'Home', '1.54077E+12', '141', '', '200', '1.54134E+12', '77'], ['Octopus Project', 'Logged In', 'Magdalene', 'F', '1', 'Herman', '498.33751', 'free', 'Dallas-Fort Worth-Arlington, TX', 'PUT', 'NextSong', '1.54077E+12', '141', 'Hypnopaedia', '200', '1.54134E+12', '77'], ['Mike Posner', 'Logged In', 'Jahiem', 'M', '0', 'Miles', '214.7522', 'free', 'San Antonio-New Braunfels, TX', 'PUT', 'NextSong', '1.54082E+12', '228', 'Cooler Than Me', '200', '1.54134E+12', '43'], ['Alliance Ethnik', 'Logged In', 'Chloe', 'F', '0', 'Roth', '252.21179', 'free', 'Indianapolis-Carmel-Anderson, IN', 'PUT', 'NextSong', '1.5407E+12', '176', 'ReprÃ\\x83Â©sente', '200', '1.54135E+12', '78'], ['', 'Logged In', 'Chloe', 'F', '1', 'Roth', '', 'free', 'Indianapolis-Carmel-Anderson, IN', 'GET', 'Home', '1.5407E+12', '176', '', '200', '1.54135E+12', '78'], ['', 'Logged In', 'Chloe', 'F', '2', 'Roth', '', 'free', 'Indianapolis-Carmel-Anderson, IN', 'GET', 'Home', '1.5407E+12', '176', '', '200', '1.54135E+12', '78'], ['', 'Logged In', 'Braden', 'M', '0', 'Parker', '', 'free', 'Youngstown-Warren-Boardman, OH-PA', 'GET', 'Home', '1.541E+12', '164', '', '200', '1.54135E+12', '74'], ['Gang Starr/Inspectah Deck', 'Logged In', 'Chloe', 'F', '3', 'Roth', '225.07057', 'free', 'Indianapolis-Carmel-Anderson, IN', 'PUT', 'NextSong', '1.5407E+12', '176', 'Above The Clouds (Edited)', '200', '1.54135E+12', '78'], ['Was (Not Was)', 'Logged In', 'Braden', 'M', '1', 'Parker', '239.15057', 'free', 'Youngstown-Warren-Boardman, OH-PA', 'PUT', 'NextSong', '1.541E+12', '164', 'Shake Your Head', '200', '1.54135E+12', '74'], ['23 Skidoo', 'Logged In', 'Chloe', 'F', '4', 'Roth', '370.88608', 'free', 'Indianapolis-Carmel-Anderson, IN', 'PUT', 'NextSong', '1.5407E+12', '176', 'Crossfire', '200', '1.54135E+12', '78'], ['Dwight Yoakam', 'Logged In', 'Chloe', 'F', '5', 'Roth', '239.3073', 'free', 'Indianapolis-Carmel-Anderson, IN', 'PUT', 'NextSong', '1.5407E+12', '176', \"You're The One\", '200', '1.54135E+12', '78'], ['', 'Logged In', 'Adler', 'M', '0', 'Barrera', '', 'free', 'New York-Newark-Jersey City, NY-NJ-PA', 'GET', 'Home', '1.54084E+12', '198', '', '200', '1.54135E+12', '100'], ['Finger Eleven', 'Logged In', 'Adler', 'M', '1', 'Barrera', '259.68281', 'free', 'New York-Newark-Jersey City, NY-NJ-PA', 'PUT', 'NextSong', '1.54084E+12', '198', 'Obvious Heart', '200', '1.54135E+12', '100'], ['Shaggy', 'Logged In', 'Adler', 'M', '2', 'Barrera', '212.97587', 'free', 'New York-Newark-Jersey City, NY-NJ-PA', 'PUT', 'NextSong', '1.54084E+12', '198', 'Intoxication', '200', '1.54135E+12', '100'], ['Kid Cudi', 'Logged In', 'Anabelle', 'F', '0', 'Simpson', '227.34322', 'free', 'Philadelphia-Camden-Wilmington, PA-NJ-DE-MD', 'PUT', 'NextSong', '1.54104E+12', '235', 'Up Up & Away', '200', '1.54135E+12', '69'], [\"Klaus Doldinger's Passport\", 'Logged In', 'Adler', 'M', '3', 'Barrera', '460.43383', 'free', 'New York-Newark-Jersey City, NY-NJ-PA', 'PUT', 'NextSong', '1.54084E+12', '198', 'Fairy Tale', '200', '1.54135E+12', '100'], ['Aesop Rock', 'Logged In', 'Anabelle', 'F', '1', 'Simpson', '245.65506', 'free', 'Philadelphia-Camden-Wilmington, PA-NJ-DE-MD', 'PUT', 'NextSong', '1.54104E+12', '235', 'None Shall Pass (Main)', '200', '1.54135E+12', '69'], ['', 'Logged In', 'Martin', 'M', '0', 'Johnson', '', 'free', 'Minneapolis-St. Paul-Bloomington, MN-WI', 'GET', 'Home', '1.54108E+12', '54', '', '200', '1.54135E+12', '55'], [\"Salt 'n' Pepa with En Vogue\", 'Logged In', 'Bronson', 'M', '0', 'Harris', '296.202', 'free', 'Eugene, OR', 'PUT', 'NextSong', '1.54091E+12', '134', 'Whatta Man (Salt-N-Pepa Featuring En Vogue) (EP Version)', '200', '1.54135E+12', '33'], ['Tiger Army', 'Logged In', 'Bronson', 'M', '1', 'Harris', '129.38404', 'free', 'Eugene, OR', 'PUT', 'NextSong', '1.54091E+12', '134', 'Ghost Tigers Rise (Album Version)', '200', '1.54135E+12', '33'], ['NEEDTOBREATHE', 'Logged In', 'Bronson', 'M', '2', 'Harris', '225.82812', 'free', 'Eugene, OR', 'PUT', 'NextSong', '1.54091E+12', '134', \"Don't Wait For Daylight (Album Version)\", '200', '1.54135E+12', '33'], ['', 'Logged In', 'Samuel', 'M', '0', 'Gonzalez', '', 'free', 'Houston-The Woodlands-Sugar Land, TX', 'GET', 'Home', '1.54049E+12', '203', '', '200', '1.54135E+12', '61'], ['', 'Logged Out', '', '', '0', '', '', 'paid', '', 'GET', 'Home', '', '234', '', '200', '1.54135E+12', ''], ['Baby Huey & The Baby Sitters', 'Logged In', 'Tegan', 'F', '0', 'Levine', '194.7424', 'free', 'Portland-South Portland, ME', 'PUT', 'NextSong', '1.54079E+12', '243', 'Hard Times (LP Version)', '200', '1.54136E+12', '80'], ['Justin Bieber', 'Logged In', 'Tegan', 'F', '1', 'Levine', '220.89098', 'free', 'Portland-South Portland, ME', 'PUT', 'NextSong', '1.54079E+12', '243', 'Somebody To Love', '200', '1.54136E+12', '80'], ['David Byrne & Fatboy Slim feat. Charmaine Clamor', 'Logged In', 'Tegan', 'F', '2', 'Levine', '238.65424', 'free', 'Portland-South Portland, ME', 'PUT', 'NextSong', '1.54079E+12', '243', 'Walk Like A Woman (Album Version)', '200', '1.54136E+12', '80'], ['Taylor Swift', 'Logged In', 'Tegan', 'F', '3', 'Levine', '230.47791', 'free', 'Portland-South Portland, ME', 'PUT', 'NextSong', '1.54079E+12', '243', 'You Belong With Me', '200', '1.54136E+12', '80'], ['Ottmar Liebert', 'Logged In', 'Tegan', 'F', '4', 'Levine', '174.54975', 'free', 'Portland-South Portland, ME', 'PUT', 'NextSong', '1.54079E+12', '243', 'Festival (Of 7 Lights)', '200', '1.54136E+12', '80'], ['The Roots', 'Logged In', 'Jacob', 'M', '0', 'Klein', '285.6224', 'paid', 'Tampa-St. Petersburg-Clearwater, FL', 'PUT', 'NextSong', '1.54056E+12', '72', 'Dynamite!', '200', '1.54136E+12', '73'], ['Foo Fighters', 'Logged In', 'Jacob', 'M', '1', 'Klein', '235.28444', 'paid', 'Tampa-St. Petersburg-Clearwater, FL', 'PUT', 'NextSong', '1.54056E+12', '72', 'Learn To Fly', '200', '1.54136E+12', '73'], ['El Hombre Burbuja', 'Logged In', 'Jacob', 'M', '2', 'Klein', '161.33179', 'paid', 'Tampa-St. Petersburg-Clearwater, FL', 'PUT', 'NextSong', '1.54056E+12', '72', 'Buzos (En La Luna)', '200', '1.54136E+12', '73'], ['Rock Kills Kid', 'Logged In', 'Jacob', 'M', '3', 'Klein', '271.38567', 'paid', 'Tampa-St. Petersburg-Clearwater, FL', 'PUT', 'NextSong', '1.54056E+12', '72', 'Back To Life (Album Version)', '200', '1.54136E+12', '73'], ['Manu Chao', 'Logged In', 'Jacob', 'M', '4', 'Klein', '288.15628', 'paid', 'Tampa-St. Petersburg-Clearwater, FL', 'PUT', 'NextSong', '1.54056E+12', '72', 'Me Quedo Contigo [Si Me Das A Elegir]', '200', '1.54136E+12', '73'], ['B.o.B', 'Logged In', 'Jacob', 'M', '5', 'Klein', '269.63546', 'paid', 'Tampa-St. Petersburg-Clearwater, FL', 'PUT', 'NextSong', '1.54056E+12', '72', \"Nothin' On You [feat. Bruno Mars] (Album Version)\", '200', '1.54136E+12', '73'], ['Baby Boy Da Prince / Mannie Fresh', 'Logged In', 'Jacob', 'M', '6', 'Klein', '235.2322', 'paid', 'Tampa-St. Petersburg-Clearwater, FL', 'PUT', 'NextSong', '1.54056E+12', '72', 'Naw Meen', '200', '1.54136E+12', '73'], ['Gerry Rafferty', 'Logged In', 'Jacob', 'M', '7', 'Klein', '224.39138', 'paid', 'Tampa-St. Petersburg-Clearwater, FL', 'PUT', 'NextSong', '1.54056E+12', '72', \"Don't Close The Door\", '200', '1.54136E+12', '73'], ['', 'Logged In', 'Jacob', 'M', '8', 'Klein', '', 'paid', 'Tampa-St. Petersburg-Clearwater, FL', 'GET', 'Error', '1.54056E+12', '72', '', '404', '1.54136E+12', '73'], ['', 'Logged In', 'Jacob', 'M', '9', 'Klein', '', 'paid', 'Tampa-St. Petersburg-Clearwater, FL', 'GET', 'Home', '1.54056E+12', '72', '', '200', '1.54136E+12', '73'], ['the bird and the bee', 'Logged In', 'Jacob', 'M', '10', 'Klein', '165.642', 'paid', 'Tampa-St. Petersburg-Clearwater, FL', 'PUT', 'NextSong', '1.54056E+12', '72', 'Again & Again', '200', '1.54136E+12', '73'], ['Blur', 'Logged In', 'Jacob', 'M', '11', 'Klein', '361.58649', 'paid', 'Tampa-St. Petersburg-Clearwater, FL', 'PUT', 'NextSong', '1.54056E+12', '72', 'Sing', '200', '1.54136E+12', '73'], ['Puerto Rican Power', 'Logged In', 'Jacob', 'M', '12', 'Klein', '305.44934', 'paid', 'Tampa-St. Petersburg-Clearwater, FL', 'PUT', 'NextSong', '1.54056E+12', '72', 'Juguete De Nadie', '200', '1.54136E+12', '73'], ['Hercules And Love Affair', 'Logged In', 'Jacob', 'M', '13', 'Klein', '471.74485', 'paid', 'Tampa-St. Petersburg-Clearwater, FL', 'PUT', 'NextSong', '1.54056E+12', '72', 'Blind (Frankie Knuckles Remix)', '200', '1.54136E+12', '73'], ['BeyoncÃ\\x83Â©', 'Logged In', 'Jacob', 'M', '14', 'Klein', '235.67628', 'paid', 'Tampa-St. Petersburg-Clearwater, FL', 'PUT', 'NextSong', '1.54056E+12', '72', 'Kitty Kat', '200', '1.54136E+12', '73'], ['Burt Bacharach', 'Logged In', 'Jacob', 'M', '15', 'Klein', '200.54159', 'paid', 'Tampa-St. Petersburg-Clearwater, FL', 'PUT', 'NextSong', '1.54056E+12', '72', 'Pacific Coast Highway', '200', '1.54136E+12', '73'], ['Common', 'Logged In', 'Jacob', 'M', '16', 'Klein', '144.16934', 'paid', 'Tampa-St. Petersburg-Clearwater, FL', 'PUT', 'NextSong', '1.54056E+12', '72', 'Be (Intro)', '200', '1.54136E+12', '73'], ['Ra Ra Riot', 'Logged In', 'Jacob', 'M', '17', 'Klein', '152.71138', 'paid', 'Tampa-St. Petersburg-Clearwater, FL', 'PUT', 'NextSong', '1.54056E+12', '72', 'Can You Tell', '200', '1.54136E+12', '73'], ['Flyleaf', 'Logged In', 'Jacob', 'M', '18', 'Klein', '167.8624', 'paid', 'Tampa-St. Petersburg-Clearwater, FL', 'PUT', 'NextSong', '1.54056E+12', '72', 'There For You', '200', '1.54136E+12', '73'], ['Neil Young', 'Logged In', 'Jacob', 'M', '19', 'Klein', '414.69342', 'paid', 'Tampa-St. Petersburg-Clearwater, FL', 'PUT', 'NextSong', '1.54056E+12', '72', 'Danger Bird (Album Version)', '200', '1.54136E+12', '73'], ['A Day To Remember', 'Logged In', 'Jacob', 'M', '20', 'Klein', '87.50975', 'paid', 'Tampa-St. Petersburg-Clearwater, FL', 'PUT', 'NextSong', '1.54056E+12', '72', 'You Already Know What You Are', '200', '1.54136E+12', '73'], ['Del Tha Funkee Homosapien', 'Logged In', 'Jacob', 'M', '21', 'Klein', '199.07873', 'paid', 'Tampa-St. Petersburg-Clearwater, FL', 'PUT', 'NextSong', '1.54056E+12', '72', \"Sleepin' On My Couch\", '200', '1.54136E+12', '73'], ['Leopoldo Federico', 'Logged In', 'Jacob', 'M', '22', 'Klein', '205.73995', 'paid', 'Tampa-St. Petersburg-Clearwater, FL', 'PUT', 'NextSong', '1.54056E+12', '72', 'La Cachila', '200', '1.54136E+12', '73'], ['Moose', 'Logged In', 'Jacob', 'M', '23', 'Klein', '490.21342', 'paid', 'Tampa-St. Petersburg-Clearwater, FL', 'PUT', 'NextSong', '1.54056E+12', '72', 'Do You Remember', '200', '1.54136E+12', '73'], ['Wyclef Jean', 'Logged In', 'Jacob', 'M', '24', 'Klein', '242.07628', 'paid', 'Tampa-St. Petersburg-Clearwater, FL', 'PUT', 'NextSong', '1.54056E+12', '72', \"Knockin' On Heaven's Door\", '200', '1.54136E+12', '73'], ['Alvin And The Chipmunks', 'Logged In', 'Jacob', 'M', '25', 'Klein', '166.47791', 'paid', 'Tampa-St. Petersburg-Clearwater, FL', 'PUT', 'NextSong', '1.54056E+12', '72', 'Coast 2 Coast', '200', '1.54136E+12', '73'], ['Anthrax', 'Logged In', 'Jacob', 'M', '26', 'Klein', '458.23955', 'paid', 'Tampa-St. Petersburg-Clearwater, FL', 'PUT', 'NextSong', '1.54056E+12', '72', 'Who Cares Wins', '200', '1.54136E+12', '73'], ['Beatsteaks', 'Logged In', 'Jacob', 'M', '27', 'Klein', '177.8673', 'paid', 'Tampa-St. Petersburg-Clearwater, FL', 'PUT', 'NextSong', '1.54056E+12', '72', 'Jane Became Insane', '200', '1.54137E+12', '73'], ['Nouvelle Vague', 'Logged In', 'Anabelle', 'F', '0', 'Simpson', '132.70159', 'free', 'Philadelphia-Camden-Wilmington, PA-NJ-DE-MD', 'PUT', 'NextSong', '1.54104E+12', '249', 'Too Drunk Too F****', '200', '1.54137E+12', '69'], ['Mastodon', 'Logged In', 'Anabelle', 'F', '1', 'Simpson', '218.87955', 'free', 'Philadelphia-Camden-Wilmington, PA-NJ-DE-MD', 'PUT', 'NextSong', '1.54104E+12', '249', 'Divinations (Album Version)', '200', '1.54137E+12', '69'], ['The Killers', 'Logged In', 'Anabelle', 'F', '2', 'Simpson', '245.99465', 'free', 'Philadelphia-Camden-Wilmington, PA-NJ-DE-MD', 'PUT', 'NextSong', '1.54104E+12', '249', \"Sam's Town\", '200', '1.54137E+12', '69'], ['', 'Logged Out', '', '', '0', '', '', 'paid', '', 'PUT', 'Login', '', '253', '', '307', '1.54137E+12', ''], ['', 'Logged In', 'Emily', 'F', '1', 'Benson', '', 'paid', 'Augusta-Richmond County, GA-SC', 'GET', 'Home', '1.54091E+12', '253', '', '200', '1.54137E+12', '58'], ['', 'Logged In', 'Emily', 'F', '2', 'Benson', '', 'paid', 'Augusta-Richmond County, GA-SC', 'PUT', 'Logout', '1.54091E+12', '253', '', '307', '1.54137E+12', '58'], ['', 'Logged Out', '', '', '3', '', '', 'paid', '', 'GET', 'Home', '', '253', '', '200', '1.54137E+12', ''], ['Alanis Morissette', 'Logged In', 'Stefany', 'F', '0', 'White', '175.82975', 'free', 'Lubbock, TX', 'PUT', 'NextSong', '1.54071E+12', '186', 'Right Through You (LP Version)', '200', '1.54138E+12', '83'], ['Muse', 'Logged In', 'Harper', 'M', '1', 'Barrett', '209.50159', 'paid', 'New York-Newark-Jersey City, NY-NJ-PA', 'PUT', 'NextSong', '1.54069E+12', '275', 'Supermassive Black Hole (Twilight Soundtrack Version)', '200', '1.54172E+12', '42'], ['Beastie Boys', 'Logged In', 'Harper', 'M', '2', 'Barrett', '161.56689', 'paid', 'New York-Newark-Jersey City, NY-NJ-PA', 'PUT', 'NextSong', '1.54069E+12', '275', 'Lighten Up', '200', '1.54172E+12', '42'], ['Shakira', 'Logged In', 'Harper', 'M', '3', 'Barrett', '145.84118', 'paid', 'New York-Newark-Jersey City, NY-NJ-PA', 'PUT', 'NextSong', '1.54069E+12', '275', 'Pienso En Ti', '200', '1.54172E+12', '42'], ['Selena', 'Logged In', 'Harper', 'M', '4', 'Barrett', '172.66893', 'paid', 'New York-Newark-Jersey City, NY-NJ-PA', 'PUT', 'NextSong', '1.54069E+12', '275', 'Amor Prohibido', '200', '1.54172E+12', '42'], ['Kid Cudi Vs Crookers', 'Logged In', 'Harper', 'M', '5', 'Barrett', '162.97751', 'paid', 'New York-Newark-Jersey City, NY-NJ-PA', 'PUT', 'NextSong', '1.54069E+12', '275', \"Day 'N' Nite\", '200', '1.54172E+12', '42'], ['Rise Against', 'Logged In', 'Harper', 'M', '6', 'Barrett', '179.59138', 'paid', 'New York-Newark-Jersey City, NY-NJ-PA', 'PUT', 'NextSong', '1.54069E+12', '275', 'Black Masks & Gasoline', '200', '1.54172E+12', '42'], ['Fall Out Boy', 'Logged In', 'Harper', 'M', '7', 'Barrett', '211.69587', 'paid', 'New York-Newark-Jersey City, NY-NJ-PA', 'PUT', 'NextSong', '1.54069E+12', '275', \"I'm Like A Lawyer With The Way I'm Always Trying To Get You Off (Me & You)\", '200', '1.54172E+12', '42'], ['Jack Johnson', 'Logged In', 'Harper', 'M', '8', 'Barrett', '196.12689', 'paid', 'New York-Newark-Jersey City, NY-NJ-PA', 'PUT', 'NextSong', '1.54069E+12', '275', 'Staple It Together', '200', '1.54172E+12', '42'], ['Twista feat. Kayne West & Jamie Foxx', 'Logged In', 'Harper', 'M', '9', 'Barrett', '212.55791', 'paid', 'New York-Newark-Jersey City, NY-NJ-PA', 'PUT', 'NextSong', '1.54069E+12', '275', 'Slow Jamz (Feat. Kanye West & Jamie Foxx) (Edited Album Version)', '200', '1.54172E+12', '42'], ['Train', 'Logged In', 'Harper', 'M', '10', 'Barrett', '216.76363', 'paid', 'New York-Newark-Jersey City, NY-NJ-PA', 'PUT', 'NextSong', '1.54069E+12', '275', 'Hey_ Soul Sister', '200', '1.54172E+12', '42'], ['Rihanna', 'Logged In', 'Harper', 'M', '11', 'Barrett', '293.82485', 'paid', 'New York-Newark-Jersey City, NY-NJ-PA', 'PUT', 'NextSong', '1.54069E+12', '275', 'Rehab', '200', '1.54172E+12', '42'], ['Man Man', 'Logged In', 'Harper', 'M', '12', 'Barrett', '222.45832', 'paid', 'New York-Newark-Jersey City, NY-NJ-PA', 'PUT', 'NextSong', '1.54069E+12', '275', 'Van Helsing Boombox', '200', '1.54172E+12', '42'], ['Ween', 'Logged In', 'Harper', 'M', '13', 'Barrett', '276.13995', 'paid', 'New York-Newark-Jersey City, NY-NJ-PA', 'PUT', 'NextSong', '1.54069E+12', '275', 'The Stallion', '200', '1.54172E+12', '42'], ['Charttraxx Karaoke', 'Logged In', 'Harper', 'M', '14', 'Barrett', '225.17506', 'paid', 'New York-Newark-Jersey City, NY-NJ-PA', 'PUT', 'NextSong', '1.54069E+12', '275', 'Fireflies', '200', '1.54172E+12', '42'], ['Digitalism', 'Logged In', 'Harper', 'M', '15', 'Barrett', '208.24771', 'paid', 'New York-Newark-Jersey City, NY-NJ-PA', 'PUT', 'NextSong', '1.54069E+12', '275', 'I Want I Want', '200', '1.54172E+12', '42'], ['Dispatch', 'Logged In', 'Harper', 'M', '16', 'Barrett', '247.50975', 'paid', 'New York-Newark-Jersey City, NY-NJ-PA', 'PUT', 'NextSong', '1.54069E+12', '275', 'Railway', '200', '1.54173E+12', '42'], ['Postal Service', 'Logged In', 'Harper', 'M', '17', 'Barrett', '294.47791', 'paid', 'New York-Newark-Jersey City, NY-NJ-PA', 'PUT', 'NextSong', '1.54069E+12', '275', 'Clark Gable (Album)', '200', '1.54173E+12', '42'], ['Patricia Barber', 'Logged In', 'Harper', 'M', '18', 'Barrett', '317.83138', 'paid', 'New York-Newark-Jersey City, NY-NJ-PA', 'PUT', 'NextSong', '1.54069E+12', '275', 'Phaeton', '200', '1.54173E+12', '42'], ['Enur', 'Logged In', 'Harper', 'M', '19', 'Barrett', '203.4673', 'paid', 'New York-Newark-Jersey City, NY-NJ-PA', 'PUT', 'NextSong', '1.54069E+12', '275', 'Ucci Ucci feat. Nicki Minaj & The Chopper City Boyz', '200', '1.54173E+12', '42'], ['Hybrid', 'Logged In', 'Harper', 'M', '20', 'Barrett', '379.61098', 'paid', 'New York-Newark-Jersey City, NY-NJ-PA', 'PUT', 'NextSong', '1.54069E+12', '275', 'Choke', '200', '1.54173E+12', '42'], ['Riverside', 'Logged In', 'Harper', 'M', '21', 'Barrett', '236.2771', 'paid', 'New York-Newark-Jersey City, NY-NJ-PA', 'PUT', 'NextSong', '1.54069E+12', '275', 'Stuck Between', '200', '1.54173E+12', '42'], ['Enigma', 'Logged In', 'Harper', 'M', '22', 'Barrett', '272.48281', 'paid', 'New York-Newark-Jersey City, NY-NJ-PA', 'PUT', 'NextSong', '1.54069E+12', '275', 'Smell Of Desire.', '200', '1.54173E+12', '42'], ['Arcade Fire', 'Logged In', 'Harper', 'M', '23', 'Barrett', '267.80689', 'paid', 'New York-Newark-Jersey City, NY-NJ-PA', 'PUT', 'NextSong', '1.54069E+12', '275', 'Headlights Look Like Diamonds', '200', '1.54173E+12', '42'], ['', 'Logged In', 'Harper', 'M', '24', 'Barrett', '', 'paid', 'New York-Newark-Jersey City, NY-NJ-PA', 'GET', 'Help', '1.54069E+12', '275', '', '200', '1.54173E+12', '42'], ['Spoon', 'Logged In', 'Harper', 'M', '25', 'Barrett', '274.36363', 'paid', 'New York-Newark-Jersey City, NY-NJ-PA', 'PUT', 'NextSong', '1.54069E+12', '275', 'Out Go The Lights', '200', '1.54173E+12', '42'], ['The Wannadies', 'Logged In', 'Harper', 'M', '26', 'Barrett', '170.86649', 'paid', 'New York-Newark-Jersey City, NY-NJ-PA', 'PUT', 'NextSong', '1.54069E+12', '275', 'You & Me Song', '200', '1.54173E+12', '42'], ['Tricky', 'Logged In', 'Harper', 'M', '27', 'Barrett', '261.43302', 'paid', 'New York-Newark-Jersey City, NY-NJ-PA', 'PUT', 'NextSong', '1.54069E+12', '275', 'Girls (Album version)', '200', '1.54173E+12', '42'], ['Tony Rice', 'Logged In', 'Harper', 'M', '28', 'Barrett', '321.98485', 'paid', 'New York-Newark-Jersey City, NY-NJ-PA', 'PUT', 'NextSong', '1.54069E+12', '275', 'Wayfaring Stranger', '200', '1.54173E+12', '42'], ['Rasheeda', 'Logged In', 'Harper', 'M', '29', 'Barrett', '212.40118', 'paid', 'New York-Newark-Jersey City, NY-NJ-PA', 'PUT', 'NextSong', '1.54069E+12', '275', 'Sweep The Flo (Featuring Diamond)', '200', '1.54173E+12', '42'], ['George Younce', 'Logged In', 'Harper', 'M', '30', 'Barrett', '191.68608', 'paid', 'New York-Newark-Jersey City, NY-NJ-PA', 'PUT', 'NextSong', '1.54069E+12', '275', 'This Old House w/ When The Saints Medley', '200', '1.54173E+12', '42'], ['Alex Gopher', 'Logged In', 'Harper', 'M', '31', 'Barrett', '221.6224', 'paid', 'New York-Newark-Jersey City, NY-NJ-PA', 'PUT', 'NextSong', '1.54069E+12', '275', 'Brain Leech', '200', '1.54173E+12', '42'], ['Aphex Twin', 'Logged In', 'Harper', 'M', '32', 'Barrett', '430.18404', 'paid', 'New York-Newark-Jersey City, NY-NJ-PA', 'PUT', 'NextSong', '1.54069E+12', '275', 'Didgeridoo', '200', '1.54173E+12', '42'], ['Emmanuel Moire', 'Logged In', 'Harper', 'M', '33', 'Barrett', '277.08036', 'paid', 'New York-Newark-Jersey City, NY-NJ-PA', 'PUT', 'NextSong', '1.54069E+12', '275', 'LÃ\\x83Â\\xa0 OÃ\\x83Â¹ Je Pars', '200', '1.54173E+12', '42'], ['Josh Turner', 'Logged In', 'Harper', 'M', '34', 'Barrett', '212.16608', 'paid', 'New York-Newark-Jersey City, NY-NJ-PA', 'PUT', 'NextSong', '1.54069E+12', '275', \"I Wouldn't Be A Man\", '200', '1.54173E+12', '42'], ['Carlos Y JosÃ\\x83Â©', 'Logged In', 'Chloe', 'F', '0', 'Cuevas', '166.45179', 'free', 'San Francisco-Oakland-Hayward, CA', 'PUT', 'NextSong', '1.54094E+12', '336', 'Soy AlbaÃ\\x83Â±il', '200', '1.54173E+12', '49'], ['Motionless in White', 'Logged In', 'Cecilia', 'F', '0', 'Owens', '217.57342', 'free', 'Atlanta-Sandy Springs-Roswell, GA', 'PUT', 'NextSong', '1.54103E+12', '288', 'Ghost In The Mirror', '200', '1.54173E+12', '6'], ['Feist', 'Logged In', 'Layla', 'F', '0', 'Griffin', '184.94649', 'paid', 'Lake Havasu City-Kingman, AZ', 'PUT', 'NextSong', '1.54106E+12', '395', 'My Moon My Man', '200', '1.54174E+12', '24'], ['', 'Logged In', 'Layla', 'F', '1', 'Griffin', '', 'paid', 'Lake Havasu City-Kingman, AZ', 'GET', 'Home', '1.54106E+12', '395', '', '200', '1.54174E+12', '24'], ['Postal Service', 'Logged In', 'Tegan', 'F', '0', 'Levine', '300.53832', 'paid', 'Portland-South Portland, ME', 'PUT', 'NextSong', '1.54079E+12', '398', 'We Will Become Silhouettes (Album)', '200', '1.54174E+12', '80'], ['', 'Logged In', 'Jayden', 'M', '0', 'Fox', '', 'free', 'New Orleans-Metairie, LA', 'GET', 'Home', '1.54103E+12', '390', '', '200', '1.54174E+12', '101'], ['Stevie Ray Vaughan And Double Trouble', 'Logged In', 'Tegan', 'F', '1', 'Levine', '258.82077', 'paid', 'Portland-South Portland, ME', 'PUT', 'NextSong', '1.54079E+12', '398', 'Life Without You', '200', '1.54174E+12', '80'], ['AFI', 'Logged In', 'Hannah', 'F', '0', 'Calhoun', '176.48281', 'free', 'Los Angeles-Long Beach-Anaheim, CA', 'PUT', 'NextSong', '1.54058E+12', '166', 'Miseria Cantare--The Beginning', '200', '1.54175E+12', '64'], ['', 'Logged Out', '', '', '0', '', '', 'paid', '', 'GET', 'Home', '', '276', '', '200', '1.54176E+12', ''], ['', 'Logged Out', '', '', '1', '', '', 'paid', '', 'PUT', 'Login', '', '276', '', '307', '1.54176E+12', ''], ['', 'Logged In', 'Sara', 'F', '2', 'Johnson', '', 'paid', 'Winston-Salem, NC', 'GET', 'Home', '1.54081E+12', '276', '', '200', '1.54176E+12', '95'], ['Lonnie Gordon', 'Logged In', 'Sara', 'F', '3', 'Johnson', '181.21098', 'paid', 'Winston-Salem, NC', 'PUT', 'NextSong', '1.54081E+12', '276', 'Catch You Baby (Steve Pitron & Max Sanna Radio Edit)', '200', '1.54176E+12', '95'], ['Harry Connick_ Jr.', 'Logged In', 'Sara', 'F', '4', 'Johnson', '197.09342', 'paid', 'Winston-Salem, NC', 'PUT', 'NextSong', '1.54081E+12', '276', 'My Blue Heaven', '200', '1.54176E+12', '95'], ['Andres Calamaro', 'Logged In', 'Sara', 'F', '5', 'Johnson', '122.33098', 'paid', 'Winston-Salem, NC', 'PUT', 'NextSong', '1.54081E+12', '276', 'Crucificame', '200', '1.54176E+12', '95'], ['Tub Ring', 'Logged In', 'Sara', 'F', '6', 'Johnson', '233.69098', 'paid', 'Winston-Salem, NC', 'PUT', 'NextSong', '1.54081E+12', '276', 'Invalid', '200', '1.54176E+12', '95'], ['Brian Poole & The Tremeloes', 'Logged In', 'Kimber', 'F', '0', 'Norris', '115.66975', 'free', 'New York-Newark-Jersey City, NY-NJ-PA', 'PUT', 'NextSong', '1.54098E+12', '142', 'I Can Dance', '200', '1.54177E+12', '47'], ['War', 'Logged In', 'Kimber', 'F', '1', 'Norris', '244.03546', 'free', 'New York-Newark-Jersey City, NY-NJ-PA', 'PUT', 'NextSong', '1.54098E+12', '142', 'The World Is A Ghetto', '200', '1.54177E+12', '47'], ['', 'Logged In', 'Kimber', 'F', '2', 'Norris', '', 'free', 'New York-Newark-Jersey City, NY-NJ-PA', 'GET', 'About', '1.54098E+12', '142', '', '200', '1.54177E+12', '47'], [\"Kanye West / Consequence / Cam'Ron\", 'Logged In', 'Tegan', 'F', '0', 'Levine', '333.34812', 'paid', 'Portland-South Portland, ME', 'PUT', 'NextSong', '1.54079E+12', '409', 'Gone', '200', '1.54177E+12', '80'], ['David Banner', 'Logged In', 'Tegan', 'F', '1', 'Levine', '232.75057', 'paid', 'Portland-South Portland, ME', 'PUT', 'NextSong', '1.54079E+12', '409', 'Play', '200', '1.54177E+12', '80'], ['Kreator', 'Logged In', 'Devin', 'M', '0', 'Larson', '287.9473', 'free', 'Tampa-St. Petersburg-Clearwater, FL', 'PUT', 'NextSong', '1.54105E+12', '271', 'Second awakening', '200', '1.54177E+12', '60'], ['Cipher', 'Logged In', 'Tegan', 'F', '2', 'Levine', '311.2224', 'paid', 'Portland-South Portland, ME', 'PUT', 'NextSong', '1.54079E+12', '409', 'Protoculture (Sankofa)', '200', '1.54177E+12', '80'], ['Daft Punk', 'Logged In', 'Tegan', 'F', '3', 'Levine', '416.522', 'paid', 'Portland-South Portland, ME', 'PUT', 'NextSong', '1.54079E+12', '409', 'Emotion', '200', '1.54177E+12', '80'], ['Taylor Swift', 'Logged In', 'Colm', 'M', '0', 'Santana', '233.89995', 'free', 'Nashville-Davidson--Murfreesboro--Franklin, TN', 'PUT', 'NextSong', '1.54086E+12', '66', 'Love Story', '200', '1.54177E+12', '67'], ['The Police', 'Logged In', 'Tegan', 'F', '4', 'Levine', '289.2273', 'paid', 'Portland-South Portland, ME', 'PUT', 'NextSong', '1.54079E+12', '409', 'Message In A Bottle', '200', '1.54177E+12', '80'], ['JayMay', 'Logged In', 'Tegan', 'F', '5', 'Levine', '590.91546', 'paid', 'Portland-South Portland, ME', 'PUT', 'NextSong', '1.54079E+12', '409', \"You'd Rather Run\", '200', '1.54177E+12', '80'], ['', 'Logged In', 'Martin', 'M', '0', 'Johnson', '', 'free', 'Minneapolis-St. Paul-Bloomington, MN-WI', 'GET', 'Home', '1.54108E+12', '331', '', '200', '1.54177E+12', '55'], ['Amy Adams', 'Logged In', 'Martin', 'M', '1', 'Johnson', '128.62649', 'free', 'Minneapolis-St. Paul-Bloomington, MN-WI', 'PUT', 'NextSong', '1.54108E+12', '331', 'Happy Working Song', '200', '1.54177E+12', '55'], ['Shinedown', 'Logged In', 'Tegan', 'F', '6', 'Levine', '220.39465', 'paid', 'Portland-South Portland, ME', 'PUT', 'NextSong', '1.54079E+12', '409', 'Second Chance (Album Version)', '200', '1.54177E+12', '80'], ['Amy Winehouse', 'Logged In', 'Martin', 'M', '2', 'Johnson', '141.24363', 'free', 'Minneapolis-St. Paul-Bloomington, MN-WI', 'PUT', 'NextSong', '1.54108E+12', '331', 'Some Unholy War', '200', '1.54177E+12', '55'], ['T.I. & DJ Drama', 'Logged In', 'Tegan', 'F', '7', 'Levine', '245.9424', 'paid', 'Portland-South Portland, ME', 'PUT', 'NextSong', '1.54079E+12', '409', 'Ride Wit Me', '200', '1.54177E+12', '80'], ['Gang Starr', 'Logged In', 'Lily', 'F', '0', 'Koch', '194.2722', 'paid', 'Chicago-Naperville-Elgin, IL-IN-WI', 'PUT', 'NextSong', '1.54105E+12', '362', 'Soliloquy Of Chaos (Explicit)', '200', '1.54177E+12', '15'], ['', 'Logged In', 'Lily', 'F', '1', 'Koch', '', 'paid', 'Chicago-Naperville-Elgin, IL-IN-WI', 'GET', 'Home', '1.54105E+12', '362', '', '200', '1.54177E+12', '15'], ['Benny Benassi', 'Logged In', 'Tegan', 'F', '8', 'Levine', '207.49016', 'paid', 'Portland-South Portland, ME', 'PUT', 'NextSong', '1.54079E+12', '409', \"Who's Your Daddy? \", '200', '1.54177E+12', '80'], ['Paramore', 'Logged In', 'Lily', 'F', '2', 'Koch', '215.09179', 'paid', 'Chicago-Naperville-Elgin, IL-IN-WI', 'PUT', 'NextSong', '1.54105E+12', '362', 'When It Rains (Album Version)', '200', '1.54177E+12', '15'], ['Metallica', 'Logged In', 'Tegan', 'F', '9', 'Levine', '319.73832', 'paid', 'Portland-South Portland, ME', 'PUT', 'NextSong', '1.54079E+12', '409', 'Mama Said', '200', '1.54177E+12', '80'], ['A-Ha', 'Logged In', 'Lily', 'F', '3', 'Koch', '246.25587', 'paid', 'Chicago-Naperville-Elgin, IL-IN-WI', 'PUT', 'NextSong', '1.54105E+12', '362', 'Forever Not Yours (Album Version  - NY Mix II)', '200', '1.54177E+12', '15'], ['Easy Star All-Stars', 'Logged In', 'Tegan', 'F', '10', 'Levine', '244.81914', 'paid', 'Portland-South Portland, ME', 'PUT', 'NextSong', '1.54079E+12', '409', 'Lovely Rita (feat. Bunny Rugs and U Roy)', '200', '1.54177E+12', '80'], ['Alter Bridge', 'Logged In', 'Lily', 'F', '4', 'Koch', '286.35383', 'paid', 'Chicago-Naperville-Elgin, IL-IN-WI', 'PUT', 'NextSong', '1.54105E+12', '362', 'Down To My Last', '200', '1.54177E+12', '15'], ['O Terco', 'Logged In', 'Tegan', 'F', '11', 'Levine', '431.20281', 'paid', 'Portland-South Portland, ME', 'PUT', 'NextSong', '1.54079E+12', '409', 'Mudanca De Tempo', '200', '1.54177E+12', '80'], ['Nightwish', 'Logged In', 'Lily', 'F', '5', 'Koch', '330.97098', 'paid', 'Chicago-Naperville-Elgin, IL-IN-WI', 'PUT', 'NextSong', '1.54105E+12', '362', 'Walking In The Air', '200', '1.54177E+12', '15'], ['Augustana', 'Logged In', 'Tegan', 'F', '12', 'Levine', '196.70159', 'paid', 'Portland-South Portland, ME', 'PUT', 'NextSong', '1.54079E+12', '409', 'Mayfield', '200', '1.54178E+12', '80'], ['Anita Ward', 'Logged In', 'Lily', 'F', '6', 'Koch', '491.93751', 'paid', 'Chicago-Naperville-Elgin, IL-IN-WI', 'PUT', 'NextSong', '1.54105E+12', '362', 'Ring My Bell', '200', '1.54178E+12', '15'], ['Gaz Nevada', 'Logged In', 'Tegan', 'F', '13', 'Levine', '390.21669', 'paid', 'Portland-South Portland, ME', 'PUT', 'NextSong', '1.54079E+12', '409', 'I C Love Affair', '200', '1.54178E+12', '80'], [\"Flamin' Groovies\", 'Logged In', 'Lily', 'F', '7', 'Koch', '299.65016', 'paid', 'Chicago-Naperville-Elgin, IL-IN-WI', 'PUT', 'NextSong', '1.54105E+12', '362', 'Slow Death', '200', '1.54178E+12', '15'], ['', 'Logged In', 'Lily', 'F', '8', 'Koch', '', 'paid', 'Chicago-Naperville-Elgin, IL-IN-WI', 'GET', 'Settings', '1.54105E+12', '362', '', '200', '1.54178E+12', '15'], ['', 'Logged In', 'Lily', 'F', '9', 'Koch', '', 'paid', 'Chicago-Naperville-Elgin, IL-IN-WI', 'PUT', 'Save Settings', '1.54105E+12', '362', '', '307', '1.54178E+12', '15'], ['isis', 'Logged In', 'Tegan', 'F', '14', 'Levine', '406.12526', 'paid', 'Portland-South Portland, ME', 'PUT', 'NextSong', '1.54079E+12', '409', 'Carry', '200', '1.54178E+12', '80'], ['', 'Logged In', 'Lily', 'F', '10', 'Koch', '', 'paid', 'Chicago-Naperville-Elgin, IL-IN-WI', 'GET', 'Home', '1.54105E+12', '362', '', '200', '1.54178E+12', '15'], ['Five Iron Frenzy', 'Logged In', 'Lily', 'F', '11', 'Koch', '236.09424', 'paid', 'Chicago-Naperville-Elgin, IL-IN-WI', 'PUT', 'NextSong', '1.54105E+12', '362', 'Canada', '200', '1.54178E+12', '15'], ['Frankie HI-NRG MC', 'Logged In', 'Lily', 'F', '12', 'Koch', '104.09751', 'paid', 'Chicago-Naperville-Elgin, IL-IN-WI', 'PUT', 'NextSong', '1.54105E+12', '362', 'Pace E Guerra', '200', '1.54178E+12', '15'], ['Alliance Ethnik', 'Logged In', 'Tegan', 'F', '0', 'Levine', '252.21179', 'paid', 'Portland-South Portland, ME', 'PUT', 'NextSong', '1.54079E+12', '416', 'ReprÃ\\x83Â©sente', '200', '1.54178E+12', '80'], ['Pavement', 'Logged In', 'Tegan', 'F', '1', 'Levine', '99.16036', 'paid', 'Portland-South Portland, ME', 'PUT', 'NextSong', '1.54079E+12', '416', 'Mercy:The Laundromat', '200', '1.54178E+12', '80'], ['4 Skins', 'Logged In', 'Tegan', 'F', '2', 'Levine', '165.51138', 'paid', 'Portland-South Portland, ME', 'PUT', 'NextSong', '1.54079E+12', '416', 'Clockwork Skinhead', '200', '1.54178E+12', '80'], ['Thrice', 'Logged In', 'Tegan', 'F', '3', 'Levine', '249.46893', 'paid', 'Portland-South Portland, ME', 'PUT', 'NextSong', '1.54079E+12', '416', 'Wood And Wire', '200', '1.54178E+12', '80'], ['Van Halen', 'Logged In', 'Jayden', 'M', '0', 'Fox', '289.38404', 'free', 'New Orleans-Metairie, LA', 'PUT', 'NextSong', '1.54103E+12', '408', 'Best Of Both Worlds (Remastered Album Version)', '200', '1.54178E+12', '101'], ['Barry Tuckwell/Academy of St Martin-in-the-Fields/Sir Neville Marriner', 'Logged In', 'Theodore', 'M', '0', 'Harris', '277.15873', 'free', 'Red Bluff, CA', 'PUT', 'NextSong', '1.5411E+12', '340', 'Horn Concerto No. 4 in E flat K495: II. Romance (Andante cantabile)', '200', '1.54178E+12', '14'], ['Hot Chip', 'Logged In', 'Ann', 'F', '0', 'Banks', '230.29506', 'free', 'Salt Lake City, UT', 'PUT', 'NextSong', '1.5409E+12', '227', 'My Brother Is Watching Me', '200', '1.54178E+12', '99'], ['Lasgo', 'Logged In', 'Tegan', 'F', '4', 'Levine', '192.80934', 'paid', 'Portland-South Portland, ME', 'PUT', 'NextSong', '1.54079E+12', '416', 'Over You', '200', '1.54178E+12', '80'], ['Peter Sellers', 'Logged In', 'Jayden', 'M', '1', 'Fox', '142.39302', 'free', 'New Orleans-Metairie, LA', 'PUT', 'NextSong', '1.54103E+12', '408', 'She Loves You', '200', '1.54178E+12', '101'], ['Alphaville', 'Logged In', 'Lily', 'F', '0', 'Burns', '285.43955', 'free', 'New York-Newark-Jersey City, NY-NJ-PA', 'PUT', 'NextSong', '1.54062E+12', '363', 'Big In Japan (Original)', '200', '1.54178E+12', '32'], ['Eneida Marta', 'Logged In', 'Tegan', 'F', '5', 'Levine', '223.55546', 'paid', 'Portland-South Portland, ME', 'PUT', 'NextSong', '1.54079E+12', '416', 'Mindjer dÃ\\x83Â´ce mel', '200', '1.54178E+12', '80'], ['Astral Projection', 'Logged In', 'Ann', 'F', '1', 'Banks', '585.42975', 'free', 'Salt Lake City, UT', 'PUT', 'NextSong', '1.5409E+12', '227', 'Flying Into a Star', '200', '1.54178E+12', '99'], ['Gare du Nord', 'Logged In', 'Tegan', 'F', '6', 'Levine', '221.98812', 'paid', 'Portland-South Portland, ME', 'PUT', 'NextSong', '1.54079E+12', '416', 'Marvin & Miles', '200', '1.54178E+12', '80'], ['Florence + The Machine', 'Logged In', 'Tegan', 'F', '7', 'Levine', '219.66322', 'paid', 'Portland-South Portland, ME', 'PUT', 'NextSong', '1.54079E+12', '416', 'Dog Days Are Over (Radio Edit)', '200', '1.54178E+12', '80'], ['The White Stripes', 'Logged In', 'Tegan', 'F', '8', 'Levine', '232.61995', 'paid', 'Portland-South Portland, ME', 'PUT', 'NextSong', '1.54079E+12', '416', 'Seven Nation Army', '200', '1.54178E+12', '80'], ['Bouncing Souls', 'Logged In', 'Ava', 'F', '0', 'Robinson', '66.01098', 'free', 'London, KY', 'PUT', 'NextSong', '1.54061E+12', '108', 'East Side Mags', '200', '1.54178E+12', '13'], ['Coldplay', 'Logged In', 'Ava', 'F', '1', 'Robinson', '311.27465', 'free', 'London, KY', 'PUT', 'NextSong', '1.54061E+12', '108', 'The Scientist', '200', '1.54178E+12', '13'], ['Kings Of Leon', 'Logged In', 'Tegan', 'F', '9', 'Levine', '201.79546', 'paid', 'Portland-South Portland, ME', 'PUT', 'NextSong', '1.54079E+12', '416', 'Revelry', '200', '1.54178E+12', '80'], ['Mad Caddies', 'Logged In', 'Tegan', 'F', '10', 'Levine', '181.81179', 'paid', 'Portland-South Portland, ME', 'PUT', 'NextSong', '1.54079E+12', '416', 'Backyard', '200', '1.54178E+12', '80'], ['Phil Collins', 'Logged In', 'Cecilia', 'F', '0', 'Owens', '239.85587', 'free', 'Atlanta-Sandy Springs-Roswell, GA', 'PUT', 'NextSong', '1.54103E+12', '406', 'The Way You Look Tonight (Live Version)', '200', '1.54178E+12', '6'], ['Parachute', 'Logged In', 'Tegan', 'F', '11', 'Levine', '230.5824', 'paid', 'Portland-South Portland, ME', 'PUT', 'NextSong', '1.54079E+12', '416', 'The Mess I Made', '200', '1.54178E+12', '80'], ['', 'Logged In', 'Kinsley', 'F', '0', 'Young', '', 'free', 'Red Bluff, CA', 'GET', 'Home', '1.54047E+12', '368', '', '200', '1.54178E+12', '85'], ['Escape The Fate', 'Logged In', 'Kinsley', 'F', '1', 'Young', '283.34975', 'free', 'Red Bluff, CA', 'PUT', 'NextSong', '1.54047E+12', '368', 'My Apocalypse', '200', '1.54178E+12', '85'], ['Booka Shade', 'Logged In', 'Tegan', 'F', '12', 'Levine', '336.45669', 'paid', 'Portland-South Portland, ME', 'PUT', 'NextSong', '1.54079E+12', '416', 'Teenage Spaceman', '200', '1.54178E+12', '80'], ['', 'Logged In', 'Kinsley', 'F', '2', 'Young', '', 'free', 'Red Bluff, CA', 'GET', 'Upgrade', '1.54047E+12', '368', '', '200', '1.54178E+12', '85'], ['', 'Logged In', 'Kinsley', 'F', '3', 'Young', '', 'free', 'Red Bluff, CA', 'PUT', 'Submit Upgrade', '1.54047E+12', '368', '', '307', '1.54178E+12', '85'], ['', 'Logged In', 'Kinsley', 'F', '4', 'Young', '', 'paid', 'Red Bluff, CA', 'GET', 'Home', '1.54047E+12', '368', '', '200', '1.54178E+12', '85'], ['Modern Lovers', 'Logged In', 'Kinsley', 'F', '5', 'Young', '180.27057', 'paid', 'Red Bluff, CA', 'PUT', 'NextSong', '1.54047E+12', '368', 'Modern world', '200', '1.54178E+12', '85'], ['Tub Ring', 'Logged In', 'Cecilia', 'F', '0', 'Owens', '233.69098', 'free', 'Atlanta-Sandy Springs-Roswell, GA', 'PUT', 'NextSong', '1.54103E+12', '423', 'Invalid', '200', '1.54178E+12', '6'], ['Black Box', 'Logged In', 'Tegan', 'F', '13', 'Levine', '247.03955', 'paid', 'Portland-South Portland, ME', 'PUT', 'NextSong', '1.54079E+12', '416', 'Everybody Everybody', '200', '1.54178E+12', '80'], ['Cass Phang', 'Logged In', 'Kinsley', 'F', '6', 'Young', '249.05098', 'paid', 'Red Bluff, CA', 'PUT', 'NextSong', '1.54047E+12', '368', 'Ye Feng Ling', '200', '1.54178E+12', '85'], ['Barry Tuckwell/Academy of St Martin-in-the-Fields/Sir Neville Marriner', 'Logged In', 'Tegan', 'F', '14', 'Levine', '277.15873', 'paid', 'Portland-South Portland, ME', 'PUT', 'NextSong', '1.54079E+12', '416', 'Horn Concerto No. 4 in E flat K495: II. Romance (Andante cantabile)', '200', '1.54178E+12', '80'], ['Adina Howard', 'Logged In', 'Kinsley', 'F', '7', 'Young', '210.33751', 'paid', 'Red Bluff, CA', 'PUT', 'NextSong', '1.54047E+12', '368', 'Buttnaked', '200', '1.54178E+12', '85'], ['Queens Of The Stone Age', 'Logged In', 'Tegan', 'F', '15', 'Levine', '254.77179', 'paid', 'Portland-South Portland, ME', 'PUT', 'NextSong', '1.54079E+12', '416', 'No One Knows', '200', '1.54178E+12', '80'], ['Mondo Marcio', 'Logged In', 'Kinsley', 'F', '8', 'Young', '218.06975', 'paid', 'Red Bluff, CA', 'PUT', 'NextSong', '1.54047E+12', '368', 'Il Solo Rimasto', '200', '1.54178E+12', '85'], ['Steve Miller Band', 'Logged In', 'Tegan', 'F', '16', 'Levine', '242.46812', 'paid', 'Portland-South Portland, ME', 'PUT', 'NextSong', '1.54079E+12', '416', 'Living In The U.S.A. (1991 Digital Remaster)', '200', '1.54178E+12', '80'], ['Lil Wayne / Eminem', 'Logged In', 'Kinsley', 'F', '9', 'Young', '229.58975', 'paid', 'Red Bluff, CA', 'PUT', 'NextSong', '1.54047E+12', '368', 'Drop The World', '200', '1.54178E+12', '85'], ['4hero feat. FACE', 'Logged In', 'Kinsley', 'F', '10', 'Young', '304.71791', 'paid', 'Red Bluff, CA', 'PUT', 'NextSong', '1.54047E+12', '368', 'Stoke Up The Fire', '200', '1.54178E+12', '85'], ['Toby Keith', 'Logged In', 'Tegan', 'F', '17', 'Levine', '238.44526', 'paid', 'Portland-South Portland, ME', 'PUT', 'NextSong', '1.54079E+12', '416', 'Whiskey Girl', '200', '1.54178E+12', '80'], ['Los Fabulosos Cadillacs', 'Logged In', 'Tegan', 'F', '18', 'Levine', '353.93261', 'paid', 'Portland-South Portland, ME', 'PUT', 'NextSong', '1.54079E+12', '416', 'Muy_ Muy Temprano', '200', '1.54178E+12', '80'], ['Amon Amarth', 'Logged In', 'Kinsley', 'F', '11', 'Young', '257.27955', 'paid', 'Red Bluff, CA', 'PUT', 'NextSong', '1.54047E+12', '368', 'Under The Northern Star', '200', '1.54178E+12', '85'], ['Markus KrunegÃ\\x83Â¥rd', 'Logged In', 'Jacob', 'M', '0', 'Rogers', '185.5473', 'free', 'San Diego-Carlsbad, CA', 'PUT', 'NextSong', '1.54098E+12', '17', 'Genom tunna tyger', '200', '1.54178E+12', '18'], ['Michael B.', 'Logged In', 'Jacob', 'M', '1', 'Rogers', '197.3024', 'free', 'San Diego-Carlsbad, CA', 'PUT', 'NextSong', '1.54098E+12', '17', 'Geh Deinen Weg', '200', '1.54178E+12', '18'], ['The Serendipity Singers', 'Logged In', 'Kinsley', 'F', '12', 'Young', '163.21261', 'paid', 'Red Bluff, CA', 'PUT', 'NextSong', '1.54047E+12', '368', \"Don't Let The Rain Come Down (Crooked Little Man)\", '200', '1.54178E+12', '85'], ['Sheena Easton', 'Logged In', 'Tegan', 'F', '19', 'Levine', '239.62077', 'paid', 'Portland-South Portland, ME', 'PUT', 'NextSong', '1.54079E+12', '416', 'Strut (1993 Digital Remaster)', '200', '1.54178E+12', '80'], ['Skillet', 'Logged In', 'Kinsley', 'F', '13', 'Young', '210.02404', 'paid', 'Red Bluff, CA', 'PUT', 'NextSong', '1.54047E+12', '368', 'Falling Inside The Black (Album Version)', '200', '1.54178E+12', '85'], ['The Bevis Frond', 'Logged In', 'Tegan', 'F', '20', 'Levine', '265.32526', 'paid', 'Portland-South Portland, ME', 'PUT', 'NextSong', '1.54079E+12', '416', 'Into The Cryptic Mist', '200', '1.54178E+12', '80'], ['Kingston Trio', 'Logged In', 'Kinsley', 'F', '14', 'Young', '193.07057', 'paid', 'Red Bluff, CA', 'PUT', 'NextSong', '1.54047E+12', '368', 'Greenback Dollar', '200', '1.54178E+12', '85'], ['The Black Keys', 'Logged In', 'Tegan', 'F', '21', 'Levine', '269.29587', 'paid', 'Portland-South Portland, ME', 'PUT', 'NextSong', '1.54079E+12', '416', 'Ten Cent Pistol', '200', '1.54178E+12', '80'], ['Jack Johnson', 'Logged In', 'Kinsley', 'F', '15', 'Young', '141.87057', 'paid', 'Red Bluff, CA', 'PUT', 'NextSong', '1.54047E+12', '368', 'Times Like These', '200', '1.54178E+12', '85'], ['Great White', 'Logged In', 'Kinsley', 'F', '16', 'Young', '357.14567', 'paid', 'Red Bluff, CA', 'PUT', 'NextSong', '1.54047E+12', '368', 'House Of Broken Love', '200', '1.54178E+12', '85'], ['Blind Melon', 'Logged In', 'Tegan', 'F', '22', 'Levine', '217.15546', 'paid', 'Portland-South Portland, ME', 'PUT', 'NextSong', '1.54079E+12', '416', 'No Rain', '200', '1.54178E+12', '80'], ['Aerosmith', 'Logged In', 'Lily', 'F', '0', 'Burns', '301.76608', 'free', 'New York-Newark-Jersey City, NY-NJ-PA', 'PUT', 'NextSong', '1.54062E+12', '420', 'Fly Away From Here', '200', '1.54178E+12', '32'], ['311', 'Logged In', 'Tegan', 'F', '23', 'Levine', '191.79057', 'paid', 'Portland-South Portland, ME', 'PUT', 'NextSong', '1.54079E+12', '416', 'Solar Flare', '200', '1.54178E+12', '80'], ['Haloo Helsinki!', 'Logged In', 'Kinsley', 'F', '17', 'Young', '223.42485', 'paid', 'Red Bluff, CA', 'PUT', 'NextSong', '1.54047E+12', '368', 'Kaaos ei karkaa', '200', '1.54178E+12', '85'], ['Dakota Oak', 'Logged In', 'Tegan', 'F', '24', 'Levine', '45.63546', 'paid', 'Portland-South Portland, ME', 'PUT', 'NextSong', '1.54079E+12', '416', \"Baker's Blue Jay Yarn\", '200', '1.54178E+12', '80'], ['Bow Wow feat. Chris Brown and JohntÃ\\x83Â¡ Austin', 'Logged In', 'Tegan', 'F', '25', 'Levine', '268.06812', 'paid', 'Portland-South Portland, ME', 'PUT', 'NextSong', '1.54079E+12', '416', 'Shortie Like Mine', '200', '1.54178E+12', '80'], ['Angus & Julia Stone', 'Logged In', 'Kinsley', 'F', '18', 'Young', '265.29914', 'paid', 'Red Bluff, CA', 'PUT', 'NextSong', '1.54047E+12', '368', 'Hold On', '200', '1.54178E+12', '85'], ['Rammstein', 'Logged In', 'Tegan', 'F', '26', 'Levine', '228.46649', 'paid', 'Portland-South Portland, ME', 'PUT', 'NextSong', '1.54079E+12', '416', 'Adios', '200', '1.54178E+12', '80'], ['The Avett Brothers', 'Logged In', 'Kinsley', 'F', '19', 'Young', '233.84771', 'paid', 'Red Bluff, CA', 'PUT', 'NextSong', '1.54047E+12', '368', 'Shame', '200', '1.54178E+12', '85'], ['Jose Cid', 'Logged In', 'Tegan', 'F', '27', 'Levine', '202.23955', 'paid', 'Portland-South Portland, ME', 'PUT', 'NextSong', '1.54079E+12', '416', 'Madrugada Na Praia Deserta', '200', '1.54178E+12', '80'], ['A Perfect Circle', 'Logged In', 'Kinsley', 'F', '20', 'Young', '291.52608', 'paid', 'Red Bluff, CA', 'PUT', 'NextSong', '1.54047E+12', '368', 'Vanishing', '200', '1.54178E+12', '85'], ['Ron Carter', 'Logged In', 'Tegan', 'F', '28', 'Levine', '497.13587', 'paid', 'Portland-South Portland, ME', 'PUT', 'NextSong', '1.54079E+12', '416', \"I CAN'T GET STARTED\", '200', '1.54178E+12', '80'], ['Muse', 'Logged In', 'Tegan', 'F', '29', 'Levine', '255.08526', 'paid', 'Portland-South Portland, ME', 'PUT', 'NextSong', '1.54079E+12', '416', 'Do We Need This?', '200', '1.54178E+12', '80'], ['The Black Keys', 'Logged In', 'Tegan', 'F', '30', 'Levine', '191.76444', 'paid', 'Portland-South Portland, ME', 'PUT', 'NextSong', '1.54079E+12', '416', 'Howlin\\x19 For You', '200', '1.54178E+12', '80'], ['Linkin Park', 'Logged In', 'Adler', 'M', '0', 'Barrera', '164.41424', 'free', 'New York-Newark-Jersey City, NY-NJ-PA', 'PUT', 'NextSong', '1.54084E+12', '341', 'Bleed It Out (Album Version)', '200', '1.54178E+12', '100'], ['Jonny L', 'Logged In', 'Tegan', 'F', '31', 'Levine', '401.52771', 'paid', 'Portland-South Portland, ME', 'PUT', 'NextSong', '1.54079E+12', '416', 'Microdaze', '200', '1.54178E+12', '80'], ['Dangerdoom', 'Logged In', 'Tegan', 'F', '32', 'Levine', '146.85995', 'paid', 'Portland-South Portland, ME', 'PUT', 'NextSong', '1.54079E+12', '416', 'Crosshairs', '200', '1.54178E+12', '80'], ['Jack Johnson', 'Logged In', 'Tegan', 'F', '33', 'Levine', '212.68853', 'paid', 'Portland-South Portland, ME', 'PUT', 'NextSong', '1.54079E+12', '416', 'Breakdown', '200', '1.54178E+12', '80'], ['Foo Fighters', 'Logged In', 'Tegan', 'F', '34', 'Levine', '271.38567', 'paid', 'Portland-South Portland, ME', 'PUT', 'NextSong', '1.54079E+12', '416', 'The Pretender', '200', '1.54178E+12', '80'], ['Sleater-kinney', 'Logged In', 'Tegan', 'F', '35', 'Levine', '264.4371', 'paid', 'Portland-South Portland, ME', 'PUT', 'NextSong', '1.54079E+12', '416', 'Jumpers (Album)', '200', '1.54178E+12', '80'], ['Interpol', 'Logged In', 'Tegan', 'F', '36', 'Levine', '276.63628', 'paid', 'Portland-South Portland, ME', 'PUT', 'NextSong', '1.54079E+12', '416', 'Pace Is The Trick', '200', '1.54179E+12', '80'], ['Leonard Cohen', 'Logged In', 'Tegan', 'F', '37', 'Levine', '365.94893', 'paid', 'Portland-South Portland, ME', 'PUT', 'NextSong', '1.54079E+12', '416', 'Dance Me To The End Of Love', '200', '1.54179E+12', '80'], ['Art Pepper', 'Logged In', 'Matthew', 'M', '0', 'Jones', '311.90159', 'free', 'Janesville-Beloit, WI', 'PUT', 'NextSong', '1.54106E+12', '392', 'Star Eyes', '200', '1.54179E+12', '36'], ['Trapt', 'Logged In', 'Tegan', 'F', '38', 'Levine', '285.98812', 'paid', 'Portland-South Portland, ME', 'PUT', 'NextSong', '1.54079E+12', '416', 'Headstrong (Album Version)', '200', '1.54179E+12', '80'], ['Sidewalk Prophets', 'Logged In', 'Matthew', 'M', '1', 'Jones', '260.62322', 'free', 'Janesville-Beloit, WI', 'PUT', 'NextSong', '1.54106E+12', '392', 'You Love Me Anyway (Album)', '200', '1.54179E+12', '36'], ['', 'Logged In', 'Matthew', 'M', '2', 'Jones', '', 'free', 'Janesville-Beloit, WI', 'GET', 'Upgrade', '1.54106E+12', '392', '', '200', '1.54179E+12', '36'], ['', 'Logged In', 'Matthew', 'M', '3', 'Jones', '', 'free', 'Janesville-Beloit, WI', 'PUT', 'Submit Upgrade', '1.54106E+12', '392', '', '307', '1.54179E+12', '36'], ['', 'Logged In', 'Matthew', 'M', '4', 'Jones', '', 'paid', 'Janesville-Beloit, WI', 'GET', 'Home', '1.54106E+12', '392', '', '200', '1.54179E+12', '36'], ['Pearl Jam', 'Logged In', 'Tegan', 'F', '39', 'Levine', '352.88771', 'paid', 'Portland-South Portland, ME', 'PUT', 'NextSong', '1.54079E+12', '416', 'Not For You', '200', '1.54179E+12', '80'], ['Nach', 'Logged In', 'Matthew', 'M', '5', 'Jones', '182.41261', 'paid', 'Janesville-Beloit, WI', 'PUT', 'NextSong', '1.54106E+12', '392', 'El Juego Del Rap', '200', '1.54179E+12', '36'], ['U.S. Bombs', 'Logged In', 'Ava', 'F', '0', 'Robinson', '214.85669', 'free', 'New Haven-Milford, CT', 'PUT', 'NextSong', '1.54093E+12', '360', 'U.S. Bombs', '200', '1.54179E+12', '50'], ['Vasco Rossi', 'Logged In', 'Matthew', 'M', '6', 'Jones', '233.53424', 'paid', 'Janesville-Beloit, WI', 'PUT', 'NextSong', '1.54106E+12', '392', 'Colpa Del Whisky (Andrea Paci Radio Edit)', '200', '1.54179E+12', '36'], ['Bruce Springsteen', 'Logged In', 'Tegan', 'F', '40', 'Levine', '195.7873', 'paid', 'Portland-South Portland, ME', 'PUT', 'NextSong', '1.54079E+12', '416', 'Streets Of Philadelphia', '200', '1.54179E+12', '80'], ['Usher', 'Logged In', 'Ava', 'F', '1', 'Robinson', '224.10404', 'free', 'New Haven-Milford, CT', 'PUT', 'NextSong', '1.54093E+12', '360', \"Hey Daddy (Daddy's Home)\", '200', '1.54179E+12', '50'], ['', 'Logged In', 'Tegan', 'F', '41', 'Levine', '', 'paid', 'Portland-South Portland, ME', 'GET', 'Home', '1.54079E+12', '416', '', '200', '1.54179E+12', '80'], ['Martin Orford', 'Logged In', 'Matthew', 'M', '7', 'Jones', '597.55057', 'paid', 'Janesville-Beloit, WI', 'PUT', 'NextSong', '1.54106E+12', '392', 'Grand Designs', '200', '1.54179E+12', '36'], ['Curtis Stigers', 'Logged In', 'Tegan', 'F', '42', 'Levine', '259.49995', 'paid', 'Portland-South Portland, ME', 'PUT', 'NextSong', '1.54079E+12', '416', 'Columbus Avenue', '200', '1.54179E+12', '80'], ['ManÃ\\x83Â¡', 'Logged In', 'Ava', 'F', '2', 'Robinson', '262.81751', 'free', 'New Haven-Milford, CT', 'PUT', 'NextSong', '1.54093E+12', '360', 'Mariposa traicionera', '200', '1.54179E+12', '50'], ['Mariah Carey', 'Logged In', 'Ryan', 'M', '0', 'Smith', '242.18077', 'free', 'San Jose-Sunnyvale-Santa Clara, CA', 'PUT', 'NextSong', '1.54102E+12', '397', 'Obsessed', '200', '1.54179E+12', '26'], ['Jack Johnson', 'Logged In', 'Tegan', 'F', '43', 'Levine', '236.93016', 'paid', 'Portland-South Portland, ME', 'PUT', 'NextSong', '1.54079E+12', '416', 'Bubble Toes', '200', '1.54179E+12', '80'], ['Bill Withers', 'Logged In', 'Ava', 'F', '3', 'Robinson', '383.73832', 'free', 'New Haven-Milford, CT', 'PUT', 'NextSong', '1.54093E+12', '360', 'Make Love To Your Mind', '200', '1.54179E+12', '50'], ['Postal Service', 'Logged In', 'Ryan', 'M', '1', 'Smith', '307.53914', 'free', 'San Jose-Sunnyvale-Santa Clara, CA', 'PUT', 'NextSong', '1.54102E+12', '397', 'Natural Anthem (Album)', '200', '1.54179E+12', '26'], ['Sara Bareilles', 'Logged In', 'Tegan', 'F', '44', 'Levine', '253.02159', 'paid', 'Portland-South Portland, ME', 'PUT', 'NextSong', '1.54079E+12', '416', 'Love On The Rocks', '200', '1.54179E+12', '80'], ['Gillian Welch', 'Logged In', 'Matthew', 'M', '8', 'Jones', '237.26975', 'paid', 'Janesville-Beloit, WI', 'PUT', 'NextSong', '1.54106E+12', '392', 'Pass You By', '200', '1.54179E+12', '36'], ['', 'Logged In', 'Ayla', 'F', '0', 'Johnson', '', 'free', 'Santa Rosa, CA', 'GET', 'Home', '1.54088E+12', '385', '', '200', '1.54179E+12', '63'], ['M83', 'Logged In', 'Ava', 'F', '4', 'Robinson', '367.5424', 'free', 'New Haven-Milford, CT', 'PUT', 'NextSong', '1.54093E+12', '360', 'Gone', '200', '1.54179E+12', '50'], ['Okkervil River', 'Logged In', 'Ryan', 'M', '2', 'Smith', '278.54322', 'free', 'San Jose-Sunnyvale-Santa Clara, CA', 'PUT', 'NextSong', '1.54102E+12', '397', \"Unless It's Kicks\", '200', '1.54179E+12', '26'], ['1200 Mics', 'Logged In', 'Matthew', 'M', '9', 'Jones', '483.39546', 'paid', 'Janesville-Beloit, WI', 'PUT', 'NextSong', '1.54106E+12', '392', 'DNA', '200', '1.54179E+12', '36'], ['', 'Logged In', 'Tegan', 'F', '45', 'Levine', '', 'paid', 'Portland-South Portland, ME', 'GET', 'Downgrade', '1.54079E+12', '416', '', '200', '1.54179E+12', '80'], ['Chasen', 'Logged In', 'Tegan', 'F', '46', 'Levine', '166.16444', 'paid', 'Portland-South Portland, ME', 'PUT', 'NextSong', '1.54079E+12', '416', 'Crazy Beautiful', '200', '1.54179E+12', '80'], ['Jonas Steur', 'Logged In', 'Tegan', 'F', '47', 'Levine', '481.38404', 'paid', 'Portland-South Portland, ME', 'PUT', 'NextSong', '1.54079E+12', '416', 'Sonrisa', '200', '1.54179E+12', '80'], ['Franz Ferdinand', 'Logged In', 'Matthew', 'M', '10', 'Jones', '204.14649', 'paid', 'Janesville-Beloit, WI', 'PUT', 'NextSong', '1.54106E+12', '392', 'Call Me', '200', '1.54179E+12', '36'], ['Recycler', 'Logged In', 'Matthew', 'M', '11', 'Jones', '323.52608', 'paid', 'Janesville-Beloit, WI', 'PUT', 'NextSong', '1.54106E+12', '392', 'Kromozom Bankal (Linathaleyco Mix)', '200', '1.54179E+12', '36'], ['', 'Logged In', 'Ryan', 'M', '0', 'Smith', '', 'free', 'San Jose-Sunnyvale-Santa Clara, CA', 'GET', 'Home', '1.54102E+12', '431', '', '200', '1.54179E+12', '26'], ['Red Hot Chili Peppers', 'Logged In', 'Ryan', 'M', '1', 'Smith', '107.31057', 'free', 'San Jose-Sunnyvale-Santa Clara, CA', 'PUT', 'NextSong', '1.54102E+12', '431', 'Pea (Album Version)', '200', '1.54179E+12', '26'], ['Sunny Day Real Estate', 'Logged In', 'Ryan', 'M', '2', 'Smith', '198.97424', 'free', 'San Jose-Sunnyvale-Santa Clara, CA', 'PUT', 'NextSong', '1.54102E+12', '431', 'Red Elephant', '200', '1.54179E+12', '26'], ['', 'Logged In', 'Jacob', 'M', '0', 'Rogers', '', 'free', 'San Diego-Carlsbad, CA', 'GET', 'Home', '1.54098E+12', '425', '', '200', '1.54179E+12', '18'], ['Alice In Chains', 'Logged In', 'Tegan', 'F', '48', 'Levine', '282.30485', 'paid', 'Portland-South Portland, ME', 'PUT', 'NextSong', '1.54079E+12', '416', 'Your Decision', '200', '1.54179E+12', '80'], ['Bell Orchestre', 'Logged In', 'Matthew', 'M', '12', 'Jones', '137.82159', 'paid', 'Janesville-Beloit, WI', 'PUT', 'NextSong', '1.54106E+12', '392', 'Stripes', '200', '1.54179E+12', '36'], ['Linkin Park', 'Logged In', 'Jacob', 'M', '1', 'Rogers', '494.99383', 'free', 'San Diego-Carlsbad, CA', 'PUT', 'NextSong', '1.54098E+12', '425', 'Bleed It Out [Live At Milton Keynes]', '200', '1.54179E+12', '18'], ['Sam Cooke', 'Logged In', 'Ryan', 'M', '3', 'Smith', '122.04363', 'free', 'San Jose-Sunnyvale-Santa Clara, CA', 'PUT', 'NextSong', '1.54102E+12', '431', \"Ain't Misbehavin\", '200', '1.54179E+12', '26'], ['Sunny Day Real Estate', 'Logged In', 'Matthew', 'M', '13', 'Jones', '253.43955', 'paid', 'Janesville-Beloit, WI', 'PUT', 'NextSong', '1.54106E+12', '392', 'Every Shining Time You Arrive (Album)', '200', '1.54179E+12', '36'], ['Eminem', 'Logged In', 'Tegan', 'F', '49', 'Levine', '212.00934', 'paid', 'Portland-South Portland, ME', 'PUT', 'NextSong', '1.54079E+12', '416', \"I'm Shady\", '200', '1.54179E+12', '80'], ['Westside Connection', 'Logged In', 'Matthew', 'M', '14', 'Jones', '223.60771', 'paid', 'Janesville-Beloit, WI', 'PUT', 'NextSong', '1.54106E+12', '392', 'Call 9-1-1 (Explicit)', '200', '1.54179E+12', '36'], ['Kitty Wells & Roy Drusky', 'Logged In', 'Matthew', 'M', '15', 'Jones', '140.64281', 'paid', 'Janesville-Beloit, WI', 'PUT', 'NextSong', '1.54106E+12', '392', \"Remember Me_ I'm The One Who Loves You\", '200', '1.54179E+12', '36'], ['Big Shug', 'Logged In', 'Matthew', 'M', '16', 'Jones', '140.56444', 'paid', 'Janesville-Beloit, WI', 'PUT', 'NextSong', '1.54106E+12', '392', \"It Just Don't Stop\", '200', '1.54179E+12', '36'], ['Miguel Calo', 'Logged In', 'Matthew', 'M', '17', 'Jones', '171.17995', 'paid', 'Janesville-Beloit, WI', 'PUT', 'NextSong', '1.54106E+12', '392', 'El Cuatrero', '200', '1.54179E+12', '36'], ['Jimi Hendrix', 'Logged In', 'Matthew', 'M', '18', 'Jones', '241.24036', 'paid', 'Janesville-Beloit, WI', 'PUT', 'NextSong', '1.54106E+12', '392', 'All Along The Watchtower', '200', '1.54179E+12', '36'], ['Mangataot', 'Logged In', 'Matthew', 'M', '19', 'Jones', '356.62322', 'paid', 'Janesville-Beloit, WI', 'PUT', 'NextSong', '1.54106E+12', '392', 'Kalidafun Parts 1&2', '200', '1.54179E+12', '36'], ['Scott Walker', 'Logged In', 'Matthew', 'M', '20', 'Jones', '199.6273', 'paid', 'Janesville-Beloit, WI', 'PUT', 'NextSong', '1.54106E+12', '392', 'Rosemary', '200', '1.54179E+12', '36'], ['Styx', 'Logged In', 'Matthew', 'M', '21', 'Jones', '247.64036', 'paid', 'Janesville-Beloit, WI', 'PUT', 'NextSong', '1.54106E+12', '392', 'Blue Collar Man (Long Nights)', '200', '1.54179E+12', '36'], ['Aventura', 'Logged In', 'Matthew', 'M', '22', 'Jones', '240.43057', 'paid', 'Janesville-Beloit, WI', 'PUT', 'NextSong', '1.54106E+12', '392', 'Su veneno', '200', '1.54179E+12', '36'], ['Katy Perry', 'Logged In', 'Matthew', 'M', '23', 'Jones', '233.53424', 'paid', 'Janesville-Beloit, WI', 'PUT', 'NextSong', '1.54106E+12', '392', 'Hot N Cold (Manhattan Clique Remix Radio Edit)', '200', '1.54179E+12', '36'], ['Black Eyed Peas', 'Logged In', 'Matthew', 'M', '24', 'Jones', '210.15465', 'paid', 'Janesville-Beloit, WI', 'PUT', 'NextSong', '1.54106E+12', '392', 'Bebot', '200', '1.54179E+12', '36'], ['', 'Logged In', 'Matthew', 'M', '25', 'Jones', '', 'paid', 'Janesville-Beloit, WI', 'GET', 'Home', '1.54106E+12', '392', '', '200', '1.54179E+12', '36'], ['Boys Noize', 'Logged In', 'Matthew', 'M', '26', 'Jones', '256.60036', 'paid', 'Janesville-Beloit, WI', 'PUT', 'NextSong', '1.54106E+12', '392', 'Lava Lava', '200', '1.54179E+12', '36'], ['', 'Logged In', 'Tegan', 'F', '0', 'Levine', '', 'paid', 'Portland-South Portland, ME', 'GET', 'Home', '1.54079E+12', '434', '', '200', '1.54179E+12', '80'], ['James Blake', 'Logged In', 'Matthew', 'M', '27', 'Jones', '248.78975', 'paid', 'Janesville-Beloit, WI', 'PUT', 'NextSong', '1.54106E+12', '392', 'Air & Lack Thereof', '200', '1.54179E+12', '36'], ['Aqua', 'Logged In', 'Tegan', 'F', '1', 'Levine', '217.57342', 'paid', 'Portland-South Portland, ME', 'PUT', 'NextSong', '1.54079E+12', '434', 'My Mamma Said', '200', '1.54179E+12', '80'], ['Emil Gilels/Orchestre de la SociÃ\\x83Â©tÃ\\x83Â© des Concerts du Conservatoire/AndrÃ\\x83Â© Cluytens', 'Logged In', 'Matthew', 'M', '28', 'Jones', '375.19628', 'paid', 'Janesville-Beloit, WI', 'PUT', 'NextSong', '1.54106E+12', '392', 'Piano Concerto No. 2 in G minor Op. 22 (2006 Digital Remaster): III.  Presto', '200', '1.54179E+12', '36'], ['Pixies', 'Logged In', 'Tegan', 'F', '2', 'Levine', '229.3024', 'paid', 'Portland-South Portland, ME', 'PUT', 'NextSong', '1.54079E+12', '434', 'Where Is My Mind?', '200', '1.54179E+12', '80'], ['LCD Soundsystem', 'Logged In', 'Tegan', 'F', '3', 'Levine', '221.64853', 'paid', 'Portland-South Portland, ME', 'PUT', 'NextSong', '1.54079E+12', '434', 'Drunk Girls', '200', '1.54179E+12', '80'], ['Phil Collins', 'Logged In', 'Matthew', 'M', '29', 'Jones', '204.19873', 'paid', 'Janesville-Beloit, WI', 'PUT', 'NextSong', '1.54106E+12', '392', 'Two Hearts', '200', '1.54179E+12', '36'], ['The Strokes', 'Logged In', 'Matthew', 'M', '30', 'Jones', '218.56608', 'paid', 'Janesville-Beloit, WI', 'PUT', 'NextSong', '1.54106E+12', '392', 'Reptilia', '200', '1.54179E+12', '36'], ['', 'Logged In', 'Kinsley', 'F', '0', 'Young', '', 'paid', 'Red Bluff, CA', 'GET', 'Home', '1.54047E+12', '427', '', '200', '1.54179E+12', '85'], ['4 Skins', 'Logged In', 'Kinsley', 'F', '1', 'Young', '165.51138', 'paid', 'Red Bluff, CA', 'PUT', 'NextSong', '1.54047E+12', '427', 'Clockwork Skinhead', '200', '1.54179E+12', '85'], ['Kate Ryan', 'Logged In', 'Matthew', 'M', '31', 'Jones', '239.96036', 'paid', 'Janesville-Beloit, WI', 'PUT', 'NextSong', '1.54106E+12', '392', 'Scream For More', '200', '1.54179E+12', '36'], ['Hi-Tek', 'Logged In', 'Kinsley', 'F', '2', 'Young', '153.67791', 'paid', 'Red Bluff, CA', 'PUT', 'NextSong', '1.54047E+12', '427', \"God's Plan\", '200', '1.54179E+12', '85'], ['Deborah Harry', 'Logged In', 'Kinsley', 'F', '3', 'Young', '257.41016', 'paid', 'Red Bluff, CA', 'PUT', 'NextSong', '1.54047E+12', '427', 'Kiss It Better', '200', '1.54179E+12', '85'], ['Octopus Project', 'Logged In', 'Matthew', 'M', '32', 'Jones', '250.95791', 'paid', 'Janesville-Beloit, WI', 'PUT', 'NextSong', '1.54106E+12', '392', 'All Of The Champs That Ever Lived', '200', '1.54179E+12', '36'], ['Escape The Fate', 'Logged In', 'Matthew', 'M', '33', 'Jones', '217.28608', 'paid', 'Janesville-Beloit, WI', 'PUT', 'NextSong', '1.54106E+12', '392', 'Something', '200', '1.54179E+12', '36'], ['Charttraxx Karaoke', 'Logged In', 'Matthew', 'M', '34', 'Jones', '225.17506', 'paid', 'Janesville-Beloit, WI', 'PUT', 'NextSong', '1.54106E+12', '392', 'Fireflies', '200', '1.54179E+12', '36'], ['Placebo', 'Logged In', 'Matthew', 'M', '35', 'Jones', '241.52771', 'paid', 'Janesville-Beloit, WI', 'PUT', 'NextSong', '1.54106E+12', '392', 'English Summer Rain', '200', '1.54179E+12', '36'], ['Frightened Rabbit', 'Logged In', 'Matthew', 'M', '36', 'Jones', '146.46812', 'paid', 'Janesville-Beloit, WI', 'PUT', 'NextSong', '1.54106E+12', '392', 'Man/Bag Of Sand', '200', '1.54179E+12', '36'], ['Darius Rucker', 'Logged In', 'Matthew', 'M', '37', 'Jones', '181.81179', 'paid', 'Janesville-Beloit, WI', 'PUT', 'NextSong', '1.54106E+12', '392', \"Don't Think I Don't Think About It\", '200', '1.54179E+12', '36'], ['Foo Fighters', 'Logged In', 'Matthew', 'M', '38', 'Jones', '249.99138', 'paid', 'Janesville-Beloit, WI', 'PUT', 'NextSong', '1.54106E+12', '392', 'Everlong', '200', '1.54179E+12', '36'], ['', 'Logged In', 'Matthew', 'M', '39', 'Jones', '', 'paid', 'Janesville-Beloit, WI', 'GET', 'Downgrade', '1.54106E+12', '392', '', '200', '1.54179E+12', '36'], ['', 'Logged In', 'Matthew', 'M', '40', 'Jones', '', 'paid', 'Janesville-Beloit, WI', 'GET', 'Home', '1.54106E+12', '392', '', '200', '1.54179E+12', '36'], ['', 'Logged In', 'Chloe', 'F', '0', 'Cuevas', '', 'free', 'San Francisco-Oakland-Hayward, CA', 'GET', 'Home', '1.54094E+12', '405', '', '200', '1.54179E+12', '49'], ['White Denim', 'Logged In', 'Chloe', 'F', '1', 'Cuevas', '148.55791', 'free', 'San Francisco-Oakland-Hayward, CA', 'PUT', 'NextSong', '1.54094E+12', '405', 'Transparency', '200', '1.54179E+12', '49'], ['The Meters', 'Logged In', 'Matthew', 'M', '41', 'Jones', '167.00036', 'paid', 'Janesville-Beloit, WI', 'PUT', 'NextSong', '1.54106E+12', '392', 'Jambalaya (On The Bayou)', '200', '1.54179E+12', '36'], ['Ron Carter', 'Logged In', 'Chloe', 'F', '2', 'Cuevas', '497.13587', 'free', 'San Francisco-Oakland-Hayward, CA', 'PUT', 'NextSong', '1.54094E+12', '405', \"I CAN'T GET STARTED\", '200', '1.54179E+12', '49'], ['Rihanna', 'Logged In', 'Matthew', 'M', '42', 'Jones', '208.40444', 'paid', 'Janesville-Beloit, WI', 'PUT', 'NextSong', '1.54106E+12', '392', 'Te Amo', '200', '1.54179E+12', '36'], ['Bayside', 'Logged In', 'Matthew', 'M', '43', 'Jones', '156.29016', 'paid', 'Janesville-Beloit, WI', 'PUT', 'NextSong', '1.54106E+12', '392', 'Kellum (Album Version)', '200', '1.54179E+12', '36'], ['Mariah', 'Logged In', 'Matthew', 'M', '44', 'Jones', '432.19546', 'paid', 'Janesville-Beloit, WI', 'PUT', 'NextSong', '1.54106E+12', '392', 'My All', '200', '1.54179E+12', '36'], ['She & Him', 'Logged In', 'Chloe', 'F', '3', 'Cuevas', '185.15546', 'free', 'San Francisco-Oakland-Hayward, CA', 'PUT', 'NextSong', '1.54094E+12', '405', 'Change Is Hard', '200', '1.54179E+12', '49'], ['Ladytron', 'Logged In', 'Chloe', 'F', '4', 'Cuevas', '325.14567', 'free', 'San Francisco-Oakland-Hayward, CA', 'PUT', 'NextSong', '1.54094E+12', '405', 'Sugar (Jagz Kooner Mix)', '200', '1.5418E+12', '49'], ['Soft', 'Logged In', 'Matthew', 'M', '45', 'Jones', '195.7873', 'paid', 'Janesville-Beloit, WI', 'PUT', 'NextSong', '1.54106E+12', '392', 'Dumb Blood', '200', '1.5418E+12', '36'], ['The Format', 'Logged In', 'Matthew', 'M', '46', 'Jones', '241.10975', 'paid', 'Janesville-Beloit, WI', 'PUT', 'NextSong', '1.54106E+12', '392', 'Time Bomb', '200', '1.5418E+12', '36'], ['Michael Jackson', 'Logged In', 'Matthew', 'M', '47', 'Jones', '390.5824', 'paid', 'Janesville-Beloit, WI', 'PUT', 'NextSong', '1.54106E+12', '392', 'In The Closet', '200', '1.5418E+12', '36'], ['JLS', 'Logged In', 'Matthew', 'M', '48', 'Jones', '172.53832', 'paid', 'Janesville-Beloit, WI', 'PUT', 'NextSong', '1.54106E+12', '392', \"Don't Go\", '200', '1.5418E+12', '36'], ['Young Money featuring Lloyd', 'Logged In', 'Matthew', 'M', '49', 'Jones', '196.33587', 'paid', 'Janesville-Beloit, WI', 'PUT', 'NextSong', '1.54106E+12', '392', 'BedRock (Radio Edit) (feat.Lloyd)', '200', '1.5418E+12', '36'], ['Peter Tosh', 'Logged In', 'Matthew', 'M', '50', 'Jones', '320.02567', 'paid', 'Janesville-Beloit, WI', 'PUT', 'NextSong', '1.54106E+12', '392', 'Rock With Me', '200', '1.5418E+12', '36'], ['Nick Duffy', 'Logged In', 'Matthew', 'M', '51', 'Jones', '235.49342', 'paid', 'Janesville-Beloit, WI', 'PUT', 'NextSong', '1.54106E+12', '392', 'Motor Panir', '200', '1.5418E+12', '36'], ['Alanis Morissette', 'Logged In', 'Matthew', 'M', '52', 'Jones', '175.82975', 'paid', 'Janesville-Beloit, WI', 'PUT', 'NextSong', '1.54106E+12', '392', 'Right Through You (LP Version)', '200', '1.5418E+12', '36'], ['', 'Logged In', 'Matthew', 'M', '53', 'Jones', '', 'paid', 'Janesville-Beloit, WI', 'GET', 'Home', '1.54106E+12', '392', '', '200', '1.5418E+12', '36'], ['Muse', 'Logged In', 'Matthew', 'M', '54', 'Jones', '209.50159', 'paid', 'Janesville-Beloit, WI', 'PUT', 'NextSong', '1.54106E+12', '392', 'Supermassive Black Hole (Twilight Soundtrack Version)', '200', '1.5418E+12', '36'], ['Bon Iver', 'Logged In', 'Matthew', 'M', '55', 'Jones', '242.93832', 'paid', 'Janesville-Beloit, WI', 'PUT', 'NextSong', '1.54106E+12', '392', 'Brackett_ WI', '200', '1.5418E+12', '36'], ['Leftover Crack', 'Logged In', 'Matthew', 'M', '56', 'Jones', '195.082', 'paid', 'Janesville-Beloit, WI', 'PUT', 'NextSong', '1.54106E+12', '392', 'Burn Them Prisons', '200', '1.5418E+12', '36'], ['For Squirrels', 'Logged In', 'Matthew', 'M', '57', 'Jones', '337.162', 'paid', 'Janesville-Beloit, WI', 'PUT', 'NextSong', '1.54106E+12', '392', 'Mighty K.C.', '200', '1.5418E+12', '36'], ['Fobia', 'Logged In', 'Matthew', 'M', '58', 'Jones', '290.40281', 'paid', 'Janesville-Beloit, WI', 'PUT', 'NextSong', '1.54106E+12', '392', 'Tu Me Asustas', '200', '1.5418E+12', '36'], ['Indian Jewelry', 'Logged In', 'Matthew', 'M', '59', 'Jones', '295.83628', 'paid', 'Janesville-Beloit, WI', 'PUT', 'NextSong', '1.54106E+12', '392', 'Barbwire', '200', '1.5418E+12', '36'], ['M.O.P.', 'Logged In', 'Matthew', 'M', '60', 'Jones', '232.6722', 'paid', 'Janesville-Beloit, WI', 'PUT', 'NextSong', '1.54106E+12', '392', 'Ante Up (Robbin Hoodz Theory)', '200', '1.5418E+12', '36'], ['Eminem / Dr. Dre / 50 Cent', 'Logged In', 'Matthew', 'M', '61', 'Jones', '297.482', 'paid', 'Janesville-Beloit, WI', 'PUT', 'NextSong', '1.54106E+12', '392', 'Crack A Bottle', '200', '1.5418E+12', '36'], ['Shakira', 'Logged In', 'Celeste', 'F', '0', 'Williams', '571.16689', 'free', 'Klamath Falls, OR', 'PUT', 'NextSong', '1.54108E+12', '311', 'Estoy AquÃ\\x83Â\\xad', '200', '1.5418E+12', '53'], [\"Usher Featuring Lil' Jon & Ludacris\", 'Logged In', 'Matthew', 'M', '62', 'Jones', '250.38322', 'paid', 'Janesville-Beloit, WI', 'PUT', 'NextSong', '1.54106E+12', '392', 'Yeah!', '200', '1.5418E+12', '36'], ['Rodrigo y Gabriela', 'Logged In', 'Matthew', 'M', '63', 'Jones', '223.16363', 'paid', 'Janesville-Beloit, WI', 'PUT', 'NextSong', '1.54106E+12', '392', 'Hanuman', '200', '1.5418E+12', '36'], ['Ramones', 'Logged In', 'Matthew', 'M', '64', 'Jones', '149.4722', 'paid', 'Janesville-Beloit, WI', 'PUT', 'NextSong', '1.54106E+12', '392', 'I Wanna Be Sedated (Remastered Album Version )', '200', '1.5418E+12', '36'], ['Mayday Parade', 'Logged In', 'Matthew', 'M', '65', 'Jones', '316.9171', 'paid', 'Janesville-Beloit, WI', 'PUT', 'NextSong', '1.54106E+12', '392', 'Miserable At Best (Album)', '200', '1.5418E+12', '36'], ['Eminem', 'Logged In', 'Jayden', 'M', '0', 'Graves', '304.87465', 'paid', 'Marinette, WI-MI', 'PUT', 'NextSong', '1.54066E+12', '297', 'Music Box', '200', '1.5418E+12', '25'], ['Cut Copy', 'Logged In', 'Jayden', 'M', '1', 'Graves', '71.49669', 'paid', 'Marinette, WI-MI', 'PUT', 'NextSong', '1.54066E+12', '297', 'Visions', '200', '1.5418E+12', '25'], ['Xandria', 'Logged In', 'Theodore', 'M', '0', 'Harris', '216.81587', 'free', 'Red Bluff, CA', 'PUT', 'NextSong', '1.5411E+12', '418', 'Calyx Virago', '200', '1.5418E+12', '14'], ['Missy Higgins', 'Logged In', 'Jayden', 'M', '2', 'Graves', '274.80771', 'paid', 'Marinette, WI-MI', 'PUT', 'NextSong', '1.54066E+12', '297', 'Drop The Mirror (EP Version)', '200', '1.5418E+12', '25'], ['Mobb Deep', 'Logged In', 'Theodore', 'M', '1', 'Harris', '181.15873', 'free', 'Red Bluff, CA', 'PUT', 'NextSong', '1.5411E+12', '418', 'Shook Ones pt. 2', '200', '1.5418E+12', '14'], ['Beatriz Luengo', 'Logged In', 'Jayden', 'M', '3', 'Graves', '242.05016', 'paid', 'Marinette, WI-MI', 'PUT', 'NextSong', '1.54066E+12', '297', 'Pretendo Hablarte', '200', '1.5418E+12', '25'], ['Evanescence', 'Logged In', 'Jayden', 'M', '4', 'Graves', '237.11302', 'paid', 'Marinette, WI-MI', 'PUT', 'NextSong', '1.54066E+12', '297', 'Bring Me To Life', '200', '1.5418E+12', '25'], ['OceanLab', 'Logged In', 'Jayden', 'M', '5', 'Graves', '440.842', 'paid', 'Marinette, WI-MI', 'PUT', 'NextSong', '1.54066E+12', '297', 'Clear Blue Water', '200', '1.5418E+12', '25'], ['Dwight Yoakam', 'Logged In', 'Mohammad', 'M', '0', 'Rodriguez', '239.3073', 'free', 'Sacramento--Roseville--Arden-Arcade, CA', 'PUT', 'NextSong', '1.54051E+12', '325', \"You're The One\", '200', '1.5418E+12', '88'], ['The Devil Wears Prada', 'Logged In', 'Mohammad', 'M', '1', 'Rodriguez', '205.66159', 'free', 'Sacramento--Roseville--Arden-Arcade, CA', 'PUT', 'NextSong', '1.54051E+12', '325', 'Lord Xenu', '200', '1.5418E+12', '88'], ['Eva Cassidy', 'Logged In', 'Jayden', 'M', '6', 'Graves', '248.86812', 'paid', 'Marinette, WI-MI', 'PUT', 'NextSong', '1.54066E+12', '297', 'Take Me To The River', '200', '1.5418E+12', '25'], ['Mr. Oizo', 'Logged In', 'Jayden', 'M', '7', 'Graves', '325.22404', 'paid', 'Marinette, WI-MI', 'PUT', 'NextSong', '1.54066E+12', '297', 'Flat Beat', '200', '1.5418E+12', '25'], ['Mariah Carey', 'Logged In', 'Jayden', 'M', '8', 'Graves', '261.642', 'paid', 'Marinette, WI-MI', 'PUT', 'NextSong', '1.54066E+12', '297', 'Never Too Far', '200', '1.5418E+12', '25'], ['Kid Cudi Vs Crookers', 'Logged In', 'Jayden', 'M', '9', 'Graves', '162.97751', 'paid', 'Marinette, WI-MI', 'PUT', 'NextSong', '1.54066E+12', '297', \"Day 'N' Nite\", '200', '1.5418E+12', '25'], ['Pat Martino', 'Logged In', 'Jayden', 'M', '10', 'Graves', '355.94404', 'paid', 'Marinette, WI-MI', 'PUT', 'NextSong', '1.54066E+12', '297', 'El Hombre', '200', '1.54181E+12', '25'], ['Jason Mraz', 'Logged In', 'Jayden', 'M', '11', 'Graves', '218.40934', 'paid', 'Marinette, WI-MI', 'PUT', 'NextSong', '1.54066E+12', '297', 'Geek In The Pink [Phil Tan Remix]', '200', '1.54181E+12', '25'], ['Dwight Yoakam', 'Logged In', 'Jayden', 'M', '12', 'Graves', '239.3073', 'paid', 'Marinette, WI-MI', 'PUT', 'NextSong', '1.54066E+12', '297', \"You're The One\", '200', '1.54181E+12', '25'], ['Smokey Robinson & The Miracles', 'Logged In', 'Jayden', 'M', '13', 'Graves', '168.9073', 'paid', 'Marinette, WI-MI', 'PUT', 'NextSong', '1.54066E+12', '297', 'I Second That Emotion', '200', '1.54181E+12', '25']]\n"
     ]
    }
   ],
   "source": [
    "# initiating an empty list of rows that will be generated from each file\n",
    "full_data_rows_list = [] \n",
    "    \n",
    "# for every filepath in the file path list \n",
    "for f in file_path_list:\n",
    "\n",
    "# reading csv file \n",
    "    with open(f, 'r', encoding = 'utf8', newline='') as csvfile: \n",
    "        # creating a csv reader object \n",
    "        csvreader = csv.reader(csvfile) \n",
    "        next(csvreader)\n",
    "        \n",
    " # extracting each data row one by one and append it        \n",
    "        for line in csvreader:\n",
    "            #print(line)\n",
    "            full_data_rows_list.append(line) \n",
    "            \n",
    "# uncomment the code below if you would like to get total number of rows \n",
    "print(len(full_data_rows_list))\n",
    "# uncomment the code below if you would like to check to see what the list of event data rows will look like\n",
    "print(full_data_rows_list)\n",
    "\n",
    "# creating a smaller event data csv file called event_datafile_full csv that will be used to insert data into the \\\n",
    "# Apache Cassandra tables\n",
    "csv.register_dialect('myDialect', quoting=csv.QUOTE_ALL, skipinitialspace=True)\n",
    "\n",
    "with open('event_datafile_new.csv', 'w', encoding = 'utf8', newline='') as f:\n",
    "    writer = csv.writer(f, dialect='myDialect')\n",
    "    writer.writerow(['artist','firstName','gender','itemInSession','lastName','length',\\\n",
    "                'level','location','sessionId','song','userId'])\n",
    "    for row in full_data_rows_list:\n",
    "        if (row[0] == ''):\n",
    "            continue\n",
    "        writer.writerow((row[0], row[2], row[3], row[4], row[5], row[6], row[7], row[8], row[12], row[13], row[16]))\n"
   ]
  },
  {
   "cell_type": "code",
   "execution_count": 4,
   "metadata": {
    "editable": true
   },
   "outputs": [
    {
     "name": "stdout",
     "output_type": "stream",
     "text": [
      "408\n"
     ]
    }
   ],
   "source": [
    "# check the number of rows in your csv file\n",
    "with open('event_datafile_new.csv', 'r', encoding = 'utf8') as f:\n",
    "    print(sum(1 for line in f))"
   ]
  },
  {
   "cell_type": "markdown",
   "metadata": {
    "editable": true
   },
   "source": [
    "# Part II. Complete the Apache Cassandra coding portion of your project. \n",
    "\n",
    "## Now you are ready to work with the CSV file titled <font color=red>event_datafile_new.csv</font>, located within the Workspace directory.  The event_datafile_new.csv contains the following columns: \n",
    "- artist \n",
    "- firstName of user\n",
    "- gender of user\n",
    "- item number in session\n",
    "- last name of user\n",
    "- length of the song\n",
    "- level (paid or free song)\n",
    "- location of the user\n",
    "- sessionId\n",
    "- song title\n",
    "- userId\n",
    "\n",
    "The image below is a screenshot of what the denormalized data should appear like in the <font color=red>**event_datafile_new.csv**</font> after the code above is run:<br>\n",
    "\n",
    "<img src=\"images/image_event_datafile_new.jpg\">"
   ]
  },
  {
   "cell_type": "markdown",
   "metadata": {
    "editable": true
   },
   "source": [
    "## Begin writing your Apache Cassandra code in the cells below"
   ]
  },
  {
   "cell_type": "markdown",
   "metadata": {
    "editable": true
   },
   "source": [
    "#### Creating a Cluster"
   ]
  },
  {
   "cell_type": "code",
   "execution_count": 5,
   "metadata": {
    "editable": true
   },
   "outputs": [],
   "source": [
    "# This should make a connection to a Cassandra instance your local machine \n",
    "# (127.0.0.1)\n",
    "\n",
    "from cassandra.cluster import Cluster\n",
    "cluster = Cluster()\n",
    "\n",
    "# To establish connection and begin executing queries, need a session\n",
    "session = cluster.connect()"
   ]
  },
  {
   "cell_type": "markdown",
   "metadata": {
    "editable": true
   },
   "source": [
    "#### Create Keyspace"
   ]
  },
  {
   "cell_type": "code",
   "execution_count": 6,
   "metadata": {
    "editable": true
   },
   "outputs": [],
   "source": [
    "#Create a Keyspace \n",
    "\n",
    "try:\n",
    "    session.execute(\"\"\"\n",
    "    CREATE KEYSPACE IF NOT EXISTS udacity \n",
    "    WITH REPLICATION = \n",
    "    { 'class' : 'SimpleStrategy', 'replication_factor' : 1 }\"\"\"\n",
    ")\n",
    "\n",
    "except Exception as e:\n",
    "    print(e)"
   ]
  },
  {
   "cell_type": "markdown",
   "metadata": {
    "editable": true
   },
   "source": [
    "#### Set Keyspace"
   ]
  },
  {
   "cell_type": "code",
   "execution_count": 7,
   "metadata": {
    "editable": true
   },
   "outputs": [],
   "source": [
    "# Set KEYSPACE to the keyspace specified above\n",
    "try:\n",
    "    session.set_keyspace('udacity')\n",
    "except Exception as e:\n",
    "    print(e)"
   ]
  },
  {
   "cell_type": "code",
   "execution_count": 8,
   "metadata": {
    "editable": true
   },
   "outputs": [],
   "source": [
    "event_datafile_df = pd.read_csv(\"event_datafile_new.csv\")"
   ]
  },
  {
   "cell_type": "code",
   "execution_count": 9,
   "metadata": {
    "editable": true
   },
   "outputs": [
    {
     "data": {
      "text/html": [
       "<div>\n",
       "<style scoped>\n",
       "    .dataframe tbody tr th:only-of-type {\n",
       "        vertical-align: middle;\n",
       "    }\n",
       "\n",
       "    .dataframe tbody tr th {\n",
       "        vertical-align: top;\n",
       "    }\n",
       "\n",
       "    .dataframe thead th {\n",
       "        text-align: right;\n",
       "    }\n",
       "</style>\n",
       "<table border=\"1\" class=\"dataframe\">\n",
       "  <thead>\n",
       "    <tr style=\"text-align: right;\">\n",
       "      <th></th>\n",
       "      <th>artist</th>\n",
       "      <th>firstName</th>\n",
       "      <th>gender</th>\n",
       "      <th>itemInSession</th>\n",
       "      <th>lastName</th>\n",
       "      <th>length</th>\n",
       "      <th>level</th>\n",
       "      <th>location</th>\n",
       "      <th>sessionId</th>\n",
       "      <th>song</th>\n",
       "      <th>userId</th>\n",
       "    </tr>\n",
       "  </thead>\n",
       "  <tbody>\n",
       "    <tr>\n",
       "      <th>0</th>\n",
       "      <td>Des'ree</td>\n",
       "      <td>Kaylee</td>\n",
       "      <td>F</td>\n",
       "      <td>1</td>\n",
       "      <td>Summers</td>\n",
       "      <td>246.30812</td>\n",
       "      <td>free</td>\n",
       "      <td>Phoenix-Mesa-Scottsdale, AZ</td>\n",
       "      <td>139</td>\n",
       "      <td>You Gotta Be</td>\n",
       "      <td>8</td>\n",
       "    </tr>\n",
       "    <tr>\n",
       "      <th>1</th>\n",
       "      <td>Mr Oizo</td>\n",
       "      <td>Kaylee</td>\n",
       "      <td>F</td>\n",
       "      <td>3</td>\n",
       "      <td>Summers</td>\n",
       "      <td>144.03873</td>\n",
       "      <td>free</td>\n",
       "      <td>Phoenix-Mesa-Scottsdale, AZ</td>\n",
       "      <td>139</td>\n",
       "      <td>Flat 55</td>\n",
       "      <td>8</td>\n",
       "    </tr>\n",
       "    <tr>\n",
       "      <th>2</th>\n",
       "      <td>Tamba Trio</td>\n",
       "      <td>Kaylee</td>\n",
       "      <td>F</td>\n",
       "      <td>4</td>\n",
       "      <td>Summers</td>\n",
       "      <td>177.18812</td>\n",
       "      <td>free</td>\n",
       "      <td>Phoenix-Mesa-Scottsdale, AZ</td>\n",
       "      <td>139</td>\n",
       "      <td>Quem Quiser Encontrar O Amor</td>\n",
       "      <td>8</td>\n",
       "    </tr>\n",
       "    <tr>\n",
       "      <th>3</th>\n",
       "      <td>The Mars Volta</td>\n",
       "      <td>Kaylee</td>\n",
       "      <td>F</td>\n",
       "      <td>5</td>\n",
       "      <td>Summers</td>\n",
       "      <td>380.42077</td>\n",
       "      <td>free</td>\n",
       "      <td>Phoenix-Mesa-Scottsdale, AZ</td>\n",
       "      <td>139</td>\n",
       "      <td>Eriatarka</td>\n",
       "      <td>8</td>\n",
       "    </tr>\n",
       "    <tr>\n",
       "      <th>4</th>\n",
       "      <td>Infected Mushroom</td>\n",
       "      <td>Kaylee</td>\n",
       "      <td>F</td>\n",
       "      <td>6</td>\n",
       "      <td>Summers</td>\n",
       "      <td>440.26730</td>\n",
       "      <td>free</td>\n",
       "      <td>Phoenix-Mesa-Scottsdale, AZ</td>\n",
       "      <td>139</td>\n",
       "      <td>Becoming Insane</td>\n",
       "      <td>8</td>\n",
       "    </tr>\n",
       "    <tr>\n",
       "      <th>5</th>\n",
       "      <td>Blue October / Imogen Heap</td>\n",
       "      <td>Kaylee</td>\n",
       "      <td>F</td>\n",
       "      <td>7</td>\n",
       "      <td>Summers</td>\n",
       "      <td>241.39710</td>\n",
       "      <td>free</td>\n",
       "      <td>Phoenix-Mesa-Scottsdale, AZ</td>\n",
       "      <td>139</td>\n",
       "      <td>Congratulations</td>\n",
       "      <td>8</td>\n",
       "    </tr>\n",
       "    <tr>\n",
       "      <th>6</th>\n",
       "      <td>Girl Talk</td>\n",
       "      <td>Kaylee</td>\n",
       "      <td>F</td>\n",
       "      <td>8</td>\n",
       "      <td>Summers</td>\n",
       "      <td>160.15628</td>\n",
       "      <td>free</td>\n",
       "      <td>Phoenix-Mesa-Scottsdale, AZ</td>\n",
       "      <td>139</td>\n",
       "      <td>Once again</td>\n",
       "      <td>8</td>\n",
       "    </tr>\n",
       "  </tbody>\n",
       "</table>\n",
       "</div>"
      ],
      "text/plain": [
       "                       artist firstName gender  itemInSession lastName  \\\n",
       "0                     Des'ree    Kaylee      F              1  Summers   \n",
       "1                     Mr Oizo    Kaylee      F              3  Summers   \n",
       "2                  Tamba Trio    Kaylee      F              4  Summers   \n",
       "3              The Mars Volta    Kaylee      F              5  Summers   \n",
       "4           Infected Mushroom    Kaylee      F              6  Summers   \n",
       "5  Blue October / Imogen Heap    Kaylee      F              7  Summers   \n",
       "6                   Girl Talk    Kaylee      F              8  Summers   \n",
       "\n",
       "      length level                     location  sessionId  \\\n",
       "0  246.30812  free  Phoenix-Mesa-Scottsdale, AZ        139   \n",
       "1  144.03873  free  Phoenix-Mesa-Scottsdale, AZ        139   \n",
       "2  177.18812  free  Phoenix-Mesa-Scottsdale, AZ        139   \n",
       "3  380.42077  free  Phoenix-Mesa-Scottsdale, AZ        139   \n",
       "4  440.26730  free  Phoenix-Mesa-Scottsdale, AZ        139   \n",
       "5  241.39710  free  Phoenix-Mesa-Scottsdale, AZ        139   \n",
       "6  160.15628  free  Phoenix-Mesa-Scottsdale, AZ        139   \n",
       "\n",
       "                           song  userId  \n",
       "0                  You Gotta Be       8  \n",
       "1                       Flat 55       8  \n",
       "2  Quem Quiser Encontrar O Amor       8  \n",
       "3                     Eriatarka       8  \n",
       "4               Becoming Insane       8  \n",
       "5               Congratulations       8  \n",
       "6                    Once again       8  "
      ]
     },
     "execution_count": 9,
     "metadata": {},
     "output_type": "execute_result"
    }
   ],
   "source": [
    "event_datafile_df[event_datafile_df['sessionId'] == 139]"
   ]
  },
  {
   "cell_type": "code",
   "execution_count": 10,
   "metadata": {
    "editable": true
   },
   "outputs": [
    {
     "data": {
      "text/plain": [
       "0      139\n",
       "1      139\n",
       "2      139\n",
       "3      139\n",
       "4      139\n",
       "5      139\n",
       "6      139\n",
       "7        9\n",
       "8      169\n",
       "9      169\n",
       "10     100\n",
       "11     124\n",
       "12      42\n",
       "13      42\n",
       "14      42\n",
       "15     225\n",
       "16     128\n",
       "17     128\n",
       "18     128\n",
       "19     128\n",
       "20     128\n",
       "21     128\n",
       "22     128\n",
       "23     128\n",
       "24     128\n",
       "25     128\n",
       "26     128\n",
       "27     128\n",
       "28     128\n",
       "29     143\n",
       "      ... \n",
       "377    392\n",
       "378    392\n",
       "379    392\n",
       "380    392\n",
       "381    392\n",
       "382    392\n",
       "383    392\n",
       "384    311\n",
       "385    392\n",
       "386    392\n",
       "387    392\n",
       "388    392\n",
       "389    297\n",
       "390    297\n",
       "391    418\n",
       "392    297\n",
       "393    418\n",
       "394    297\n",
       "395    297\n",
       "396    297\n",
       "397    325\n",
       "398    325\n",
       "399    297\n",
       "400    297\n",
       "401    297\n",
       "402    297\n",
       "403    297\n",
       "404    297\n",
       "405    297\n",
       "406    297\n",
       "Name: sessionId, Length: 407, dtype: int64"
      ]
     },
     "execution_count": 10,
     "metadata": {},
     "output_type": "execute_result"
    }
   ],
   "source": [
    "event_datafile_df['sessionId']"
   ]
  },
  {
   "cell_type": "markdown",
   "metadata": {
    "editable": true
   },
   "source": [
    "### Now we need to create tables to run the following queries. Remember, with Apache Cassandra you model the database tables on the queries you want to run."
   ]
  },
  {
   "cell_type": "markdown",
   "metadata": {
    "editable": true
   },
   "source": [
    "## Create queries to ask the following three questions of the data\n",
    "\n",
    "### 1. Give me the artist, song title and song's length in the music app history that was heard during  sessionId = 338, and itemInSession  = 4\n",
    "\n",
    "\n",
    "### 2. Give me only the following: name of artist, song (sorted by itemInSession) and user (first and last name) for userid = 10, sessionid = 182\n",
    "    \n",
    "\n",
    "### 3. Give me every user name (first and last) in my music app history who listened to the song 'All Hands Against His Own'\n",
    "\n",
    "\n"
   ]
  },
  {
   "cell_type": "code",
   "execution_count": 11,
   "metadata": {
    "editable": true
   },
   "outputs": [],
   "source": [
    "## TO-DO: Query 1:  Give me the artist, song title and song's length in the music app history that was heard during \\\n",
    "## sessionId = 338, and itemInSession = 4\n",
    "\n",
    "query = \"CREATE TABLE IF NOT EXISTS session_item_table \"\n",
    "query = query + \"(artist text, song text, length float, sessionId int, itemInSession int, PRIMARY KEY (sessionId, itemInSession))\"\n",
    "try:\n",
    "    session.execute(query)\n",
    "except Exception as e:\n",
    "    print(e)\n",
    "\n",
    "\n",
    "                    "
   ]
  },
  {
   "cell_type": "code",
   "execution_count": 12,
   "metadata": {
    "editable": true
   },
   "outputs": [],
   "source": [
    "# We have provided part of the code to set up the CSV file. Please complete the Apache Cassandra code below#\n",
    "file = 'event_datafile_new.csv'\n",
    "\n",
    "with open(file, encoding = 'utf8') as f:\n",
    "    csvreader = csv.reader(f)\n",
    "    next(csvreader) # skip header\n",
    "    for line in csvreader:\n",
    "## Assign the INSERT statements into the `query` variable\n",
    "        query = \"INSERT INTO session_item_table (artist, song, length, sessionId, itemInSession)\"\n",
    "        query = query + \" VALUES (%s, %s, %s, %s, %s)\"\n",
    "        ## Assign which column element should be assigned for each column in the INSERT statement.\n",
    "        ## For e.g., to INSERT artist_name and user first_name, you would change the code below to `line[0], line[1]`\n",
    "        session.execute(query, (line[0], line[9], float(line[5]), int(line[8]), int(line[3])))"
   ]
  },
  {
   "cell_type": "markdown",
   "metadata": {
    "editable": true
   },
   "source": [
    "#### Do a SELECT to verify that the data have been inserted into each table"
   ]
  },
  {
   "cell_type": "code",
   "execution_count": 13,
   "metadata": {
    "editable": true,
    "scrolled": true
   },
   "outputs": [
    {
     "name": "stdout",
     "output_type": "stream",
     "text": [
      "Des'ree You Gotta Be 246.30812072753906\n",
      "Mr Oizo Flat 55 144.03872680664062\n",
      "Tamba Trio Quem Quiser Encontrar O Amor 177.18812561035156\n",
      "The Mars Volta Eriatarka 380.4207763671875\n",
      "Infected Mushroom Becoming Insane 440.2673034667969\n",
      "Blue October / Imogen Heap Congratulations 241.3970947265625\n",
      "Girl Talk Once again 160.15628051757812\n"
     ]
    }
   ],
   "source": [
    "## TO-DO: Add in the SELECT statement to verify the data was entered into the table\n",
    "query = \"select * from session_item_table WHERE sessionId = 139\"\n",
    "try:\n",
    "    rows = session.execute(query)\n",
    "except Exception as e:\n",
    "    print(e)\n",
    "    \n",
    "for row in rows:\n",
    "    print(row.artist, row.song, row.length)"
   ]
  },
  {
   "cell_type": "markdown",
   "metadata": {
    "editable": true
   },
   "source": [
    "### COPY AND REPEAT THE ABOVE THREE CELLS FOR EACH OF THE THREE QUESTIONS"
   ]
  },
  {
   "cell_type": "code",
   "execution_count": null,
   "metadata": {
    "editable": true
   },
   "outputs": [],
   "source": [
    "## TO-DO: Query 3: Give me every user name (first and last) in my music app history who listened to the song 'All Hands Against His Own'\n",
    "\n",
    "\n",
    "                    "
   ]
  },
  {
   "cell_type": "code",
   "execution_count": 14,
   "metadata": {
    "editable": true
   },
   "outputs": [],
   "source": [
    "## TO-DO: Query 2: Give me only the following: name of artist, song (sorted by itemInSession) and user (first and last name)\\\n",
    "## for userid = 10, sessionid = 182\n",
    "\n",
    "\n",
    "                    "
   ]
  },
  {
   "cell_type": "code",
   "execution_count": null,
   "metadata": {
    "editable": true
   },
   "outputs": [],
   "source": []
  },
  {
   "cell_type": "code",
   "execution_count": null,
   "metadata": {
    "editable": true
   },
   "outputs": [],
   "source": []
  },
  {
   "cell_type": "markdown",
   "metadata": {
    "editable": true
   },
   "source": [
    "### Drop the tables before closing out the sessions"
   ]
  },
  {
   "cell_type": "code",
   "execution_count": 33,
   "metadata": {
    "editable": true
   },
   "outputs": [],
   "source": [
    "## TO-DO: Drop the table before closing out the sessions\n",
    "query = \"drop table if exists session_item_table\"\n",
    "try:\n",
    "    rows = session.execute(query)\n",
    "except Exception as e:\n",
    "    print(e)\n"
   ]
  },
  {
   "cell_type": "code",
   "execution_count": null,
   "metadata": {
    "editable": true
   },
   "outputs": [],
   "source": []
  },
  {
   "cell_type": "markdown",
   "metadata": {
    "editable": true
   },
   "source": [
    "### Close the session and cluster connection¶"
   ]
  },
  {
   "cell_type": "code",
   "execution_count": null,
   "metadata": {
    "editable": true
   },
   "outputs": [],
   "source": [
    "session.shutdown()\n",
    "cluster.shutdown()"
   ]
  },
  {
   "cell_type": "code",
   "execution_count": null,
   "metadata": {
    "editable": true
   },
   "outputs": [],
   "source": []
  },
  {
   "cell_type": "code",
   "execution_count": null,
   "metadata": {
    "editable": true
   },
   "outputs": [],
   "source": []
  }
 ],
 "metadata": {
  "kernelspec": {
   "display_name": "Python 3",
   "language": "python",
   "name": "python3"
  },
  "language_info": {
   "codemirror_mode": {
    "name": "ipython",
    "version": 3
   },
   "file_extension": ".py",
   "mimetype": "text/x-python",
   "name": "python",
   "nbconvert_exporter": "python",
   "pygments_lexer": "ipython3",
   "version": "3.6.3"
  }
 },
 "nbformat": 4,
 "nbformat_minor": 4
}
